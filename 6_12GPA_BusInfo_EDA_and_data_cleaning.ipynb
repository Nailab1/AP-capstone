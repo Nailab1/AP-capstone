{
  "nbformat": 4,
  "nbformat_minor": 0,
  "metadata": {
    "colab": {
      "name": "6-12GPA_BusInfo EDA and data cleaning",
      "provenance": [],
      "collapsed_sections": []
    },
    "kernelspec": {
      "name": "python3",
      "display_name": "Python 3"
    }
  },
  "cells": [
    {
      "cell_type": "code",
      "metadata": {
        "id": "VwoJzOKCfR4I",
        "colab_type": "code",
        "colab": {
          "base_uri": "https://localhost:8080/",
          "height": 377
        },
        "outputId": "c0fdf37c-5981-41ed-ef2b-c779bb1cada0"
      },
      "source": [
        "!wget https://www.dropbox.com/s/1amhjlzg8j7o25j/6-12GPA_BusInfo.csv"
      ],
      "execution_count": 1,
      "outputs": [
        {
          "output_type": "stream",
          "text": [
            "--2020-04-02 16:08:16--  https://www.dropbox.com/s/1amhjlzg8j7o25j/6-12GPA_BusInfo.csv\n",
            "Resolving www.dropbox.com (www.dropbox.com)... 162.125.9.1, 2620:100:601f:1::a27d:901\n",
            "Connecting to www.dropbox.com (www.dropbox.com)|162.125.9.1|:443... connected.\n",
            "HTTP request sent, awaiting response... 301 Moved Permanently\n",
            "Location: /s/raw/1amhjlzg8j7o25j/6-12GPA_BusInfo.csv [following]\n",
            "--2020-04-02 16:08:17--  https://www.dropbox.com/s/raw/1amhjlzg8j7o25j/6-12GPA_BusInfo.csv\n",
            "Reusing existing connection to www.dropbox.com:443.\n",
            "HTTP request sent, awaiting response... 302 Found\n",
            "Location: https://uc4148b804e4365bfb6d9fd4b1a6.dl.dropboxusercontent.com/cd/0/inline/A1GPlvCfjZrxtM7dnVHFfqXvIIQUB2gNGXZmXW-URrEEUKceHewVIuAgX9A9bo0jqbnhc064HXspsJo4pf-BrZegNWGO1hT4qWuQi-v9CZVrjNJAfF5xrBAPKgva1xY-4aY/file# [following]\n",
            "--2020-04-02 16:08:17--  https://uc4148b804e4365bfb6d9fd4b1a6.dl.dropboxusercontent.com/cd/0/inline/A1GPlvCfjZrxtM7dnVHFfqXvIIQUB2gNGXZmXW-URrEEUKceHewVIuAgX9A9bo0jqbnhc064HXspsJo4pf-BrZegNWGO1hT4qWuQi-v9CZVrjNJAfF5xrBAPKgva1xY-4aY/file\n",
            "Resolving uc4148b804e4365bfb6d9fd4b1a6.dl.dropboxusercontent.com (uc4148b804e4365bfb6d9fd4b1a6.dl.dropboxusercontent.com)... 162.125.9.6, 2620:100:601f:6::a27d:906\n",
            "Connecting to uc4148b804e4365bfb6d9fd4b1a6.dl.dropboxusercontent.com (uc4148b804e4365bfb6d9fd4b1a6.dl.dropboxusercontent.com)|162.125.9.6|:443... connected.\n",
            "HTTP request sent, awaiting response... 200 OK\n",
            "Length: 13544646 (13M) [text/plain]\n",
            "Saving to: ‘6-12GPA_BusInfo.csv’\n",
            "\n",
            "6-12GPA_BusInfo.csv 100%[===================>]  12.92M  39.7MB/s    in 0.3s    \n",
            "\n",
            "2020-04-02 16:08:18 (39.7 MB/s) - ‘6-12GPA_BusInfo.csv’ saved [13544646/13544646]\n",
            "\n"
          ],
          "name": "stdout"
        }
      ]
    },
    {
      "cell_type": "code",
      "metadata": {
        "id": "VFKgZagwfoO2",
        "colab_type": "code",
        "outputId": "d1fb5ec6-273e-4851-e9be-e176b46e4ba8",
        "colab": {
          "base_uri": "https://localhost:8080/",
          "height": 102
        }
      },
      "source": [
        "import numpy as np\n",
        "import pandas as pd\n",
        "import matplotlib.pyplot as plt\n",
        "import seaborn as sns\n",
        "\n",
        "data = pd.read_csv('6-12GPA_BusInfo.csv')\n",
        "data.shape"
      ],
      "execution_count": 2,
      "outputs": [
        {
          "output_type": "stream",
          "text": [
            "/usr/local/lib/python3.6/dist-packages/statsmodels/tools/_testing.py:19: FutureWarning: pandas.util.testing is deprecated. Use the functions in the public API at pandas.testing instead.\n",
            "  import pandas.util.testing as tm\n",
            "/usr/local/lib/python3.6/dist-packages/IPython/core/interactiveshell.py:2718: DtypeWarning: Columns (3,16,17,18,19,20,21,23,24) have mixed types.Specify dtype option on import or set low_memory=False.\n",
            "  interactivity=interactivity, compiler=compiler, result=result)\n"
          ],
          "name": "stderr"
        },
        {
          "output_type": "execute_result",
          "data": {
            "text/plain": [
              "(87642, 25)"
            ]
          },
          "metadata": {
            "tags": []
          },
          "execution_count": 2
        }
      ]
    },
    {
      "cell_type": "code",
      "metadata": {
        "id": "u-9ZcJYGZfgR",
        "colab_type": "code",
        "colab": {}
      },
      "source": [
        "df=data.copy()"
      ],
      "execution_count": 0,
      "outputs": []
    },
    {
      "cell_type": "code",
      "metadata": {
        "id": "s0BL3GtSfv3l",
        "colab_type": "code",
        "outputId": "c03d1b38-1bdb-4fde-ba6a-7f0ab4a2a8cb",
        "colab": {
          "base_uri": "https://localhost:8080/",
          "height": 411
        }
      },
      "source": [
        "df.head()   #87642 rows × 25 columns"
      ],
      "execution_count": 4,
      "outputs": [
        {
          "output_type": "execute_result",
          "data": {
            "text/html": [
              "<div>\n",
              "<style scoped>\n",
              "    .dataframe tbody tr th:only-of-type {\n",
              "        vertical-align: middle;\n",
              "    }\n",
              "\n",
              "    .dataframe tbody tr th {\n",
              "        vertical-align: top;\n",
              "    }\n",
              "\n",
              "    .dataframe thead th {\n",
              "        text-align: right;\n",
              "    }\n",
              "</style>\n",
              "<table border=\"1\" class=\"dataframe\">\n",
              "  <thead>\n",
              "    <tr style=\"text-align: right;\">\n",
              "      <th></th>\n",
              "      <th>School Year</th>\n",
              "      <th>Building</th>\n",
              "      <th>Student ID</th>\n",
              "      <th>Grade</th>\n",
              "      <th>StreetNum</th>\n",
              "      <th>Street</th>\n",
              "      <th>City</th>\n",
              "      <th>State</th>\n",
              "      <th>Zip</th>\n",
              "      <th>Gender</th>\n",
              "      <th>Ethnicity</th>\n",
              "      <th>Poverty</th>\n",
              "      <th>ELL Eligible</th>\n",
              "      <th>CourseName</th>\n",
              "      <th>CourseDepartment</th>\n",
              "      <th>CourseID</th>\n",
              "      <th>FinalAverage</th>\n",
              "      <th>MP1Average</th>\n",
              "      <th>MP2Average</th>\n",
              "      <th>MP3Average</th>\n",
              "      <th>MP4Average</th>\n",
              "      <th>BusAM</th>\n",
              "      <th>BUSPM</th>\n",
              "      <th>AMBusDestination</th>\n",
              "      <th>PMBUSDestination</th>\n",
              "    </tr>\n",
              "  </thead>\n",
              "  <tbody>\n",
              "    <tr>\n",
              "      <th>0</th>\n",
              "      <td>2015-2016</td>\n",
              "      <td>Averill Park High School</td>\n",
              "      <td>111097</td>\n",
              "      <td>12</td>\n",
              "      <td>64</td>\n",
              "      <td>Birds Hill Road</td>\n",
              "      <td>Averill Park</td>\n",
              "      <td>NY</td>\n",
              "      <td>12018.0</td>\n",
              "      <td>Male</td>\n",
              "      <td>White</td>\n",
              "      <td>0</td>\n",
              "      <td>0</td>\n",
              "      <td>PARTICIPATION IN GOVERNMENT</td>\n",
              "      <td>Social Studies</td>\n",
              "      <td>2SOC-402</td>\n",
              "      <td>83</td>\n",
              "      <td>NaN</td>\n",
              "      <td>NaN</td>\n",
              "      <td>85</td>\n",
              "      <td>81</td>\n",
              "      <td>NaN</td>\n",
              "      <td>NaN</td>\n",
              "      <td>NaN</td>\n",
              "      <td>NaN</td>\n",
              "    </tr>\n",
              "    <tr>\n",
              "      <th>1</th>\n",
              "      <td>2015-2016</td>\n",
              "      <td>Averill Park High School</td>\n",
              "      <td>111097</td>\n",
              "      <td>12</td>\n",
              "      <td>64</td>\n",
              "      <td>Birds Hill Road</td>\n",
              "      <td>Averill Park</td>\n",
              "      <td>NY</td>\n",
              "      <td>12018.0</td>\n",
              "      <td>Male</td>\n",
              "      <td>White</td>\n",
              "      <td>0</td>\n",
              "      <td>0</td>\n",
              "      <td>PSYCHOLOGY II</td>\n",
              "      <td>Distance Learning</td>\n",
              "      <td>2MUL-302D SM2</td>\n",
              "      <td>93</td>\n",
              "      <td>NaN</td>\n",
              "      <td>NaN</td>\n",
              "      <td>94</td>\n",
              "      <td>94</td>\n",
              "      <td>NaN</td>\n",
              "      <td>NaN</td>\n",
              "      <td>NaN</td>\n",
              "      <td>NaN</td>\n",
              "    </tr>\n",
              "    <tr>\n",
              "      <th>2</th>\n",
              "      <td>2015-2016</td>\n",
              "      <td>Averill Park High School</td>\n",
              "      <td>111097</td>\n",
              "      <td>12</td>\n",
              "      <td>64</td>\n",
              "      <td>Birds Hill Road</td>\n",
              "      <td>Averill Park</td>\n",
              "      <td>NY</td>\n",
              "      <td>12018.0</td>\n",
              "      <td>Male</td>\n",
              "      <td>White</td>\n",
              "      <td>0</td>\n",
              "      <td>0</td>\n",
              "      <td>PSYCHOLOGY I</td>\n",
              "      <td>Social Studies</td>\n",
              "      <td>2SOC-308 SM</td>\n",
              "      <td>92</td>\n",
              "      <td>99</td>\n",
              "      <td>89</td>\n",
              "      <td>NaN</td>\n",
              "      <td>NaN</td>\n",
              "      <td>NaN</td>\n",
              "      <td>NaN</td>\n",
              "      <td>NaN</td>\n",
              "      <td>NaN</td>\n",
              "    </tr>\n",
              "    <tr>\n",
              "      <th>3</th>\n",
              "      <td>2015-2016</td>\n",
              "      <td>Averill Park High School</td>\n",
              "      <td>111097</td>\n",
              "      <td>12</td>\n",
              "      <td>64</td>\n",
              "      <td>Birds Hill Road</td>\n",
              "      <td>Averill Park</td>\n",
              "      <td>NY</td>\n",
              "      <td>12018.0</td>\n",
              "      <td>Male</td>\n",
              "      <td>White</td>\n",
              "      <td>0</td>\n",
              "      <td>0</td>\n",
              "      <td>PHYS ED S1</td>\n",
              "      <td>Physical Education</td>\n",
              "      <td>2PHY-111</td>\n",
              "      <td>85</td>\n",
              "      <td>80</td>\n",
              "      <td>90</td>\n",
              "      <td>NaN</td>\n",
              "      <td>NaN</td>\n",
              "      <td>NaN</td>\n",
              "      <td>NaN</td>\n",
              "      <td>NaN</td>\n",
              "      <td>NaN</td>\n",
              "    </tr>\n",
              "    <tr>\n",
              "      <th>4</th>\n",
              "      <td>2015-2016</td>\n",
              "      <td>Averill Park High School</td>\n",
              "      <td>111097</td>\n",
              "      <td>12</td>\n",
              "      <td>64</td>\n",
              "      <td>Birds Hill Road</td>\n",
              "      <td>Averill Park</td>\n",
              "      <td>NY</td>\n",
              "      <td>12018.0</td>\n",
              "      <td>Male</td>\n",
              "      <td>White</td>\n",
              "      <td>0</td>\n",
              "      <td>0</td>\n",
              "      <td>ENG 12 WRITER'S WORKSHOP</td>\n",
              "      <td>English</td>\n",
              "      <td>2ENG-404 SM</td>\n",
              "      <td>92</td>\n",
              "      <td>96</td>\n",
              "      <td>93</td>\n",
              "      <td>NaN</td>\n",
              "      <td>NaN</td>\n",
              "      <td>NaN</td>\n",
              "      <td>NaN</td>\n",
              "      <td>NaN</td>\n",
              "      <td>NaN</td>\n",
              "    </tr>\n",
              "  </tbody>\n",
              "</table>\n",
              "</div>"
            ],
            "text/plain": [
              "  School Year                  Building  ...  AMBusDestination PMBUSDestination\n",
              "0   2015-2016  Averill Park High School  ...               NaN              NaN\n",
              "1   2015-2016  Averill Park High School  ...               NaN              NaN\n",
              "2   2015-2016  Averill Park High School  ...               NaN              NaN\n",
              "3   2015-2016  Averill Park High School  ...               NaN              NaN\n",
              "4   2015-2016  Averill Park High School  ...               NaN              NaN\n",
              "\n",
              "[5 rows x 25 columns]"
            ]
          },
          "metadata": {
            "tags": []
          },
          "execution_count": 4
        }
      ]
    },
    {
      "cell_type": "code",
      "metadata": {
        "id": "xbViI6JhpK4t",
        "colab_type": "code",
        "outputId": "049f958b-3b7f-4732-bd9f-e820a7040cbe",
        "colab": {
          "base_uri": "https://localhost:8080/",
          "height": 119
        }
      },
      "source": [
        "df.columns"
      ],
      "execution_count": 5,
      "outputs": [
        {
          "output_type": "execute_result",
          "data": {
            "text/plain": [
              "Index(['School Year', 'Building', 'Student ID', 'Grade', 'StreetNum', 'Street',\n",
              "       'City', 'State', 'Zip', 'Gender', 'Ethnicity', 'Poverty',\n",
              "       'ELL Eligible', 'CourseName', 'CourseDepartment', 'CourseID',\n",
              "       'FinalAverage', 'MP1Average', 'MP2Average', 'MP3Average', 'MP4Average',\n",
              "       'BusAM', 'BUSPM', 'AMBusDestination', 'PMBUSDestination'],\n",
              "      dtype='object')"
            ]
          },
          "metadata": {
            "tags": []
          },
          "execution_count": 5
        }
      ]
    },
    {
      "cell_type": "code",
      "metadata": {
        "id": "0Y1-4CnDpWZd",
        "colab_type": "code",
        "outputId": "31360113-3b81-4258-920f-fa1a85056f77",
        "colab": {
          "base_uri": "https://localhost:8080/",
          "height": 34
        }
      },
      "source": [
        "#Remove 744 duplicates\n",
        "\n",
        "df = df.drop_duplicates()\n",
        "df.shape"
      ],
      "execution_count": 6,
      "outputs": [
        {
          "output_type": "execute_result",
          "data": {
            "text/plain": [
              "(86898, 25)"
            ]
          },
          "metadata": {
            "tags": []
          },
          "execution_count": 6
        }
      ]
    },
    {
      "cell_type": "code",
      "metadata": {
        "id": "xGdkRRkQpgLh",
        "colab_type": "code",
        "outputId": "3b3dcec1-c897-4717-c6ea-b58bd5c34343",
        "colab": {
          "base_uri": "https://localhost:8080/",
          "height": 459
        }
      },
      "source": [
        "#Check missing value\n",
        "df.isnull().sum()"
      ],
      "execution_count": 7,
      "outputs": [
        {
          "output_type": "execute_result",
          "data": {
            "text/plain": [
              "School Year             0\n",
              "Building                0\n",
              "Student ID              0\n",
              "Grade                   0\n",
              "StreetNum            1420\n",
              "Street                 89\n",
              "City                   89\n",
              "State                  89\n",
              "Zip                    89\n",
              "Gender                  0\n",
              "Ethnicity               0\n",
              "Poverty                 0\n",
              "ELL Eligible            0\n",
              "CourseName              0\n",
              "CourseDepartment        0\n",
              "CourseID                0\n",
              "FinalAverage        24039\n",
              "MP1Average          26309\n",
              "MP2Average          24657\n",
              "MP3Average          38959\n",
              "MP4Average          38925\n",
              "BusAM               62995\n",
              "BUSPM               64826\n",
              "AMBusDestination    62995\n",
              "PMBUSDestination    62995\n",
              "dtype: int64"
            ]
          },
          "metadata": {
            "tags": []
          },
          "execution_count": 7
        }
      ]
    },
    {
      "cell_type": "code",
      "metadata": {
        "id": "FcARVfY83xN7",
        "colab_type": "code",
        "outputId": "c373d8cc-9b35-434f-fc8d-c9e3a6b773a6",
        "colab": {
          "base_uri": "https://localhost:8080/",
          "height": 238
        }
      },
      "source": [
        "#Deal with the different formats in grade column\n",
        "#Deal with the wrong classfication of ethnicity column\n",
        "df.loc[df.Grade =='12','Grade']=12\n",
        "df.loc[df.Grade =='13','Grade']=13\n",
        "df.loc[df.Grade =='07','Grade']=7\n",
        "df.loc[df.Grade =='08','Grade']=8\n",
        "df.loc[df.Grade =='09','Grade']=9\n",
        "df.loc[df.Grade =='11','Grade']=11\n",
        "df.loc[df.Grade =='10','Grade']=10\n",
        "df.loc[df.Grade =='9','Grade']=9\n",
        "df.loc[df.Grade =='8','Grade']=8\n",
        "df.loc[df.Grade =='7','Grade']=7\n",
        "df.loc[df.Grade =='14','Grade']=14\n",
        "df.loc[df.Grade =='06','Grade']=6\n",
        "df.loc[df.Grade =='6','Grade']=6\n",
        "df.loc[df.Ethnicity =='Multiple Races','Ethnicity'] = 'Multiracial'\n",
        "df.loc[df.Ethnicity =='Hispanic','Ethnicity'] = 'Hispanic or Latino'\n",
        "df['City'][df['City']=='AverillPark'] = 'Averill Park'\n",
        "df['City'][df['City']=='West sand Lake'] = 'West Sand Lake'\n",
        "df['City'][df['City']=='East Nassua'] = 'East Nassau'\n"
      ],
      "execution_count": 8,
      "outputs": [
        {
          "output_type": "stream",
          "text": [
            "/usr/local/lib/python3.6/dist-packages/ipykernel_launcher.py:16: SettingWithCopyWarning: \n",
            "A value is trying to be set on a copy of a slice from a DataFrame\n",
            "\n",
            "See the caveats in the documentation: https://pandas.pydata.org/pandas-docs/stable/user_guide/indexing.html#returning-a-view-versus-a-copy\n",
            "  app.launch_new_instance()\n",
            "/usr/local/lib/python3.6/dist-packages/ipykernel_launcher.py:17: SettingWithCopyWarning: \n",
            "A value is trying to be set on a copy of a slice from a DataFrame\n",
            "\n",
            "See the caveats in the documentation: https://pandas.pydata.org/pandas-docs/stable/user_guide/indexing.html#returning-a-view-versus-a-copy\n",
            "/usr/local/lib/python3.6/dist-packages/ipykernel_launcher.py:18: SettingWithCopyWarning: \n",
            "A value is trying to be set on a copy of a slice from a DataFrame\n",
            "\n",
            "See the caveats in the documentation: https://pandas.pydata.org/pandas-docs/stable/user_guide/indexing.html#returning-a-view-versus-a-copy\n"
          ],
          "name": "stderr"
        }
      ]
    },
    {
      "cell_type": "code",
      "metadata": {
        "id": "2WV5agEdaUgB",
        "colab_type": "code",
        "colab": {}
      },
      "source": [
        "df.shape"
      ],
      "execution_count": 0,
      "outputs": []
    },
    {
      "cell_type": "code",
      "metadata": {
        "id": "_nw4niTXaXBZ",
        "colab_type": "code",
        "colab": {}
      },
      "source": [
        "df.Grade.value_counts()"
      ],
      "execution_count": 0,
      "outputs": []
    },
    {
      "cell_type": "code",
      "metadata": {
        "id": "DhTpt86B3yWH",
        "colab_type": "code",
        "colab": {}
      },
      "source": [
        "df = df[df.Grade.isin([6,7,8,9,10,11,12])]\n",
        "df.shape"
      ],
      "execution_count": 0,
      "outputs": []
    },
    {
      "cell_type": "code",
      "metadata": {
        "id": "gGzNeFSIxuQL",
        "colab_type": "code",
        "colab": {
          "base_uri": "https://localhost:8080/",
          "height": 34
        },
        "outputId": "84c064c0-33ed-41d2-9cf8-5b6c0db11c7c"
      },
      "source": [
        "abc=['A','B','C','D','F','P']\n",
        "df = df[(~df.FinalAverage.isin(abc))&(~df.MP1Average.isin(abc))&(~df.MP2Average.isin(abc))&(~df.MP3Average.isin(abc))&(~df.MP4Average.isin(abc))]\n",
        "df.shape"
      ],
      "execution_count": 11,
      "outputs": [
        {
          "output_type": "execute_result",
          "data": {
            "text/plain": [
              "(85663, 25)"
            ]
          },
          "metadata": {
            "tags": []
          },
          "execution_count": 11
        }
      ]
    },
    {
      "cell_type": "code",
      "metadata": {
        "id": "Lkj0g1v5vU0e",
        "colab_type": "code",
        "colab": {}
      },
      "source": [
        "df.FinalAverage = df.FinalAverage.astype(float)\n",
        "df.MP1Average = df.MP1Average.astype(float)\n",
        "df.MP2Average = df.MP2Average.astype(float)\n",
        "df.MP3Average = df.MP3Average.astype(float)\n",
        "df.MP4Average = df.MP4Average.astype(float)"
      ],
      "execution_count": 0,
      "outputs": []
    },
    {
      "cell_type": "code",
      "metadata": {
        "id": "khKGhzKuw_Vt",
        "colab_type": "code",
        "colab": {}
      },
      "source": [
        "# from google.colab import files\n",
        "\n",
        "# df.to_csv('df.csv')\n",
        "# files.download('df.csv')"
      ],
      "execution_count": 0,
      "outputs": []
    },
    {
      "cell_type": "code",
      "metadata": {
        "id": "pzoETzj_8Yfs",
        "colab_type": "code",
        "colab": {}
      },
      "source": [
        "df2= df.copy()\n",
        "df2 = df.drop_duplicates(subset='Student ID')\n",
        "high2=df2[df2['Building']== 'Averill Park High School']\n",
        "mid2 = df2[df2['Building']== 'Algonquin Middle School']"
      ],
      "execution_count": 0,
      "outputs": []
    },
    {
      "cell_type": "code",
      "metadata": {
        "id": "x9F2e9Io9k5P",
        "colab_type": "code",
        "colab": {}
      },
      "source": [
        "high=df[df['Building']== 'Averill Park High School']\n",
        "mid = df[df['Building']== 'Algonquin Middle School']\n",
        "high2=df2[df2['Building']== 'Averill Park High School']\n",
        "mid2 = df2[df2['Building']== 'Algonquin Middle School']"
      ],
      "execution_count": 0,
      "outputs": []
    },
    {
      "cell_type": "code",
      "metadata": {
        "id": "faQlFFQPV0nW",
        "colab_type": "code",
        "colab": {}
      },
      "source": [
        "#Start EDA analysis"
      ],
      "execution_count": 0,
      "outputs": []
    },
    {
      "cell_type": "code",
      "metadata": {
        "id": "40m0w0zz4lSM",
        "colab_type": "code",
        "outputId": "5553ceb1-fe5a-4141-d121-b649edd9eb58",
        "colab": {
          "base_uri": "https://localhost:8080/",
          "height": 119
        }
      },
      "source": [
        "df.columns"
      ],
      "execution_count": 16,
      "outputs": [
        {
          "output_type": "execute_result",
          "data": {
            "text/plain": [
              "Index(['School Year', 'Building', 'Student ID', 'Grade', 'StreetNum', 'Street',\n",
              "       'City', 'State', 'Zip', 'Gender', 'Ethnicity', 'Poverty',\n",
              "       'ELL Eligible', 'CourseName', 'CourseDepartment', 'CourseID',\n",
              "       'FinalAverage', 'MP1Average', 'MP2Average', 'MP3Average', 'MP4Average',\n",
              "       'BusAM', 'BUSPM', 'AMBusDestination', 'PMBUSDestination'],\n",
              "      dtype='object')"
            ]
          },
          "metadata": {
            "tags": []
          },
          "execution_count": 16
        }
      ]
    },
    {
      "cell_type": "code",
      "metadata": {
        "id": "XtiXMwujr0e-",
        "colab_type": "code",
        "outputId": "f5b12314-a4f2-4f1c-c59b-4f0df232d995",
        "colab": {
          "base_uri": "https://localhost:8080/",
          "height": 119
        }
      },
      "source": [
        "df['School Year'].value_counts()"
      ],
      "execution_count": 17,
      "outputs": [
        {
          "output_type": "execute_result",
          "data": {
            "text/plain": [
              "2019-2020    23614\n",
              "2015-2016    15933\n",
              "2016-2017    15822\n",
              "2017-2018    15625\n",
              "2018-2019    14669\n",
              "Name: School Year, dtype: int64"
            ]
          },
          "metadata": {
            "tags": []
          },
          "execution_count": 17
        }
      ]
    },
    {
      "cell_type": "code",
      "metadata": {
        "id": "zAXarl_6VYfz",
        "colab_type": "code",
        "colab": {
          "base_uri": "https://localhost:8080/",
          "height": 68
        },
        "outputId": "75d5abbb-57eb-4225-b0ae-dce2d659c271"
      },
      "source": [
        "df.Building.value_counts()"
      ],
      "execution_count": 18,
      "outputs": [
        {
          "output_type": "execute_result",
          "data": {
            "text/plain": [
              "Averill Park High School    54875\n",
              "Algonquin Middle School     30788\n",
              "Name: Building, dtype: int64"
            ]
          },
          "metadata": {
            "tags": []
          },
          "execution_count": 18
        }
      ]
    },
    {
      "cell_type": "code",
      "metadata": {
        "id": "YB8xtmGQVYiF",
        "colab_type": "code",
        "colab": {
          "base_uri": "https://localhost:8080/",
          "height": 450
        },
        "outputId": "bf67693d-523a-430c-fc0b-7cc28c5f9bf9"
      },
      "source": [
        "df[['Student ID','Grade','Gender']].groupby(['Student ID','Grade']).count()"
      ],
      "execution_count": 19,
      "outputs": [
        {
          "output_type": "execute_result",
          "data": {
            "text/html": [
              "<div>\n",
              "<style scoped>\n",
              "    .dataframe tbody tr th:only-of-type {\n",
              "        vertical-align: middle;\n",
              "    }\n",
              "\n",
              "    .dataframe tbody tr th {\n",
              "        vertical-align: top;\n",
              "    }\n",
              "\n",
              "    .dataframe thead th {\n",
              "        text-align: right;\n",
              "    }\n",
              "</style>\n",
              "<table border=\"1\" class=\"dataframe\">\n",
              "  <thead>\n",
              "    <tr style=\"text-align: right;\">\n",
              "      <th></th>\n",
              "      <th></th>\n",
              "      <th>Gender</th>\n",
              "    </tr>\n",
              "    <tr>\n",
              "      <th>Student ID</th>\n",
              "      <th>Grade</th>\n",
              "      <th></th>\n",
              "    </tr>\n",
              "  </thead>\n",
              "  <tbody>\n",
              "    <tr>\n",
              "      <th rowspan=\"3\" valign=\"top\">11286</th>\n",
              "      <th>7</th>\n",
              "      <td>9</td>\n",
              "    </tr>\n",
              "    <tr>\n",
              "      <th>8</th>\n",
              "      <td>9</td>\n",
              "    </tr>\n",
              "    <tr>\n",
              "      <th>9</th>\n",
              "      <td>10</td>\n",
              "    </tr>\n",
              "    <tr>\n",
              "      <th>18197</th>\n",
              "      <th>12</th>\n",
              "      <td>5</td>\n",
              "    </tr>\n",
              "    <tr>\n",
              "      <th>18680</th>\n",
              "      <th>12</th>\n",
              "      <td>11</td>\n",
              "    </tr>\n",
              "    <tr>\n",
              "      <th>...</th>\n",
              "      <th>...</th>\n",
              "      <td>...</td>\n",
              "    </tr>\n",
              "    <tr>\n",
              "      <th>2009131</th>\n",
              "      <th>12</th>\n",
              "      <td>13</td>\n",
              "    </tr>\n",
              "    <tr>\n",
              "      <th rowspan=\"4\" valign=\"top\">2030006</th>\n",
              "      <th>7</th>\n",
              "      <td>9</td>\n",
              "    </tr>\n",
              "    <tr>\n",
              "      <th>8</th>\n",
              "      <td>9</td>\n",
              "    </tr>\n",
              "    <tr>\n",
              "      <th>9</th>\n",
              "      <td>9</td>\n",
              "    </tr>\n",
              "    <tr>\n",
              "      <th>10</th>\n",
              "      <td>11</td>\n",
              "    </tr>\n",
              "  </tbody>\n",
              "</table>\n",
              "<p>6973 rows × 1 columns</p>\n",
              "</div>"
            ],
            "text/plain": [
              "                  Gender\n",
              "Student ID Grade        \n",
              "11286      7           9\n",
              "           8           9\n",
              "           9          10\n",
              "18197      12          5\n",
              "18680      12         11\n",
              "...                  ...\n",
              "2009131    12         13\n",
              "2030006    7           9\n",
              "           8           9\n",
              "           9           9\n",
              "           10         11\n",
              "\n",
              "[6973 rows x 1 columns]"
            ]
          },
          "metadata": {
            "tags": []
          },
          "execution_count": 19
        }
      ]
    },
    {
      "cell_type": "code",
      "metadata": {
        "id": "OAn0DYgLVYkr",
        "colab_type": "code",
        "colab": {
          "base_uri": "https://localhost:8080/",
          "height": 153
        },
        "outputId": "bc2a47c5-a6fa-47e9-c40f-da63ea129daf"
      },
      "source": [
        "df.Grade.value_counts()"
      ],
      "execution_count": 20,
      "outputs": [
        {
          "output_type": "execute_result",
          "data": {
            "text/plain": [
              "7     14283\n",
              "12    14184\n",
              "10    14006\n",
              "9     13461\n",
              "11    13224\n",
              "8     13063\n",
              "6      3442\n",
              "Name: Grade, dtype: int64"
            ]
          },
          "metadata": {
            "tags": []
          },
          "execution_count": 20
        }
      ]
    },
    {
      "cell_type": "code",
      "metadata": {
        "id": "mcB1eV7LVYo7",
        "colab_type": "code",
        "colab": {
          "base_uri": "https://localhost:8080/",
          "height": 119
        },
        "outputId": "6d50ac2b-0dde-4ed3-d83e-2f403103fe67"
      },
      "source": [
        "df.columns"
      ],
      "execution_count": 21,
      "outputs": [
        {
          "output_type": "execute_result",
          "data": {
            "text/plain": [
              "Index(['School Year', 'Building', 'Student ID', 'Grade', 'StreetNum', 'Street',\n",
              "       'City', 'State', 'Zip', 'Gender', 'Ethnicity', 'Poverty',\n",
              "       'ELL Eligible', 'CourseName', 'CourseDepartment', 'CourseID',\n",
              "       'FinalAverage', 'MP1Average', 'MP2Average', 'MP3Average', 'MP4Average',\n",
              "       'BusAM', 'BUSPM', 'AMBusDestination', 'PMBUSDestination'],\n",
              "      dtype='object')"
            ]
          },
          "metadata": {
            "tags": []
          },
          "execution_count": 21
        }
      ]
    },
    {
      "cell_type": "code",
      "metadata": {
        "id": "9Jxc5SnDB2JH",
        "colab_type": "code",
        "colab": {
          "base_uri": "https://localhost:8080/",
          "height": 249
        },
        "outputId": "545ae7b2-c1a5-4648-fd16-a9d8d35171e2"
      },
      "source": [
        "df['School Year'].value_counts().plot(kind='barh',title='Record counts',figsize=(15,3),fontsize=15)"
      ],
      "execution_count": 22,
      "outputs": [
        {
          "output_type": "execute_result",
          "data": {
            "text/plain": [
              "<matplotlib.axes._subplots.AxesSubplot at 0x7f740c848e10>"
            ]
          },
          "metadata": {
            "tags": []
          },
          "execution_count": 22
        },
        {
          "output_type": "display_data",
          "data": {
            "image/png": "[encoded data removed]",
            "text/plain": [
              "<Figure size 1080x216 with 1 Axes>"
            ]
          },
          "metadata": {
            "tags": []
          }
        }
      ]
    },
    {
      "cell_type": "code",
      "metadata": {
        "id": "GQZPNM8DCI4H",
        "colab_type": "code",
        "colab": {
          "base_uri": "https://localhost:8080/",
          "height": 68
        },
        "outputId": "f59a01ed-fdc7-4b01-8dd8-4bc269fe1307"
      },
      "source": [
        "df['Building'].value_counts()"
      ],
      "execution_count": 23,
      "outputs": [
        {
          "output_type": "execute_result",
          "data": {
            "text/plain": [
              "Averill Park High School    54875\n",
              "Algonquin Middle School     30788\n",
              "Name: Building, dtype: int64"
            ]
          },
          "metadata": {
            "tags": []
          },
          "execution_count": 23
        }
      ]
    },
    {
      "cell_type": "code",
      "metadata": {
        "id": "GayJ14VRCS0e",
        "colab_type": "code",
        "colab": {
          "base_uri": "https://localhost:8080/",
          "height": 34
        },
        "outputId": "ee2ad0c4-b69e-4373-b005-b64bc9f55bdc"
      },
      "source": [
        "len(df['Student ID'].unique().tolist())"
      ],
      "execution_count": 24,
      "outputs": [
        {
          "output_type": "execute_result",
          "data": {
            "text/plain": [
              "2707"
            ]
          },
          "metadata": {
            "tags": []
          },
          "execution_count": 24
        }
      ]
    },
    {
      "cell_type": "code",
      "metadata": {
        "id": "7uJUvZbUIVcJ",
        "colab_type": "code",
        "colab": {
          "base_uri": "https://localhost:8080/",
          "height": 51
        },
        "outputId": "970b76f5-dc83-44d0-ceb9-a04eb1f97a5d"
      },
      "source": [
        "df[['Student ID','Grade']].groupby('Student ID').count().sort_values(by='Grade').mean()"
      ],
      "execution_count": 25,
      "outputs": [
        {
          "output_type": "execute_result",
          "data": {
            "text/plain": [
              "Grade    31.644994\n",
              "dtype: float64"
            ]
          },
          "metadata": {
            "tags": []
          },
          "execution_count": 25
        }
      ]
    },
    {
      "cell_type": "code",
      "metadata": {
        "id": "JoSO_K0JKEDq",
        "colab_type": "code",
        "colab": {
          "base_uri": "https://localhost:8080/",
          "height": 34
        },
        "outputId": "5f0a49ec-10fa-4020-849e-80238e663c8b"
      },
      "source": [
        "id_2015 = set(df['Student ID'][df['School Year']== '2015-2016'].unique().tolist())\n",
        "id_2016 = set(df['Student ID'][df['School Year']== '2016-2017'].unique().tolist())\n",
        "id_2017 = set(df['Student ID'][df['School Year']== '2017-2018'].unique().tolist())\n",
        "id_2018 = set(df['Student ID'][df['School Year']== '2018-2019'].unique().tolist())\n",
        "id_2019 = set(df['Student ID'][df['School Year']== '2019-2020'].unique().tolist())\n",
        "len(id_2015 & id_2016&id_2017&id_2018&id_2019)"
      ],
      "execution_count": 26,
      "outputs": [
        {
          "output_type": "execute_result",
          "data": {
            "text/plain": [
              "359"
            ]
          },
          "metadata": {
            "tags": []
          },
          "execution_count": 26
        }
      ]
    },
    {
      "cell_type": "code",
      "metadata": {
        "id": "FEkuMXFWK1oU",
        "colab_type": "code",
        "colab": {
          "base_uri": "https://localhost:8080/",
          "height": 298
        },
        "outputId": "6ab4214f-fa6f-4413-f2ea-f1ee5ac8a24d"
      },
      "source": [
        "df.Grade.value_counts().plot(kind='barh',title='Grade Distribution')"
      ],
      "execution_count": 27,
      "outputs": [
        {
          "output_type": "execute_result",
          "data": {
            "text/plain": [
              "<matplotlib.axes._subplots.AxesSubplot at 0x7f740c328320>"
            ]
          },
          "metadata": {
            "tags": []
          },
          "execution_count": 27
        },
        {
          "output_type": "display_data",
          "data": {
            "image/png": "[encoded data removed]",
            "text/plain": [
              "<Figure size 432x288 with 1 Axes>"
            ]
          },
          "metadata": {
            "tags": []
          }
        }
      ]
    },
    {
      "cell_type": "code",
      "metadata": {
        "id": "zaeYd0PBMtpE",
        "colab_type": "code",
        "colab": {
          "base_uri": "https://localhost:8080/",
          "height": 1000
        },
        "outputId": "898e92e6-2f5e-4f1a-944e-757c7e7074a2"
      },
      "source": [
        "df[['School Year','Grade','Gender']].groupby(['School Year','Grade']).count()"
      ],
      "execution_count": 28,
      "outputs": [
        {
          "output_type": "execute_result",
          "data": {
            "text/html": [
              "<div>\n",
              "<style scoped>\n",
              "    .dataframe tbody tr th:only-of-type {\n",
              "        vertical-align: middle;\n",
              "    }\n",
              "\n",
              "    .dataframe tbody tr th {\n",
              "        vertical-align: top;\n",
              "    }\n",
              "\n",
              "    .dataframe thead th {\n",
              "        text-align: right;\n",
              "    }\n",
              "</style>\n",
              "<table border=\"1\" class=\"dataframe\">\n",
              "  <thead>\n",
              "    <tr style=\"text-align: right;\">\n",
              "      <th></th>\n",
              "      <th></th>\n",
              "      <th>Gender</th>\n",
              "    </tr>\n",
              "    <tr>\n",
              "      <th>School Year</th>\n",
              "      <th>Grade</th>\n",
              "      <th></th>\n",
              "    </tr>\n",
              "  </thead>\n",
              "  <tbody>\n",
              "    <tr>\n",
              "      <th rowspan=\"7\" valign=\"top\">2015-2016</th>\n",
              "      <th>6</th>\n",
              "      <td>79</td>\n",
              "    </tr>\n",
              "    <tr>\n",
              "      <th>7</th>\n",
              "      <td>2497</td>\n",
              "    </tr>\n",
              "    <tr>\n",
              "      <th>8</th>\n",
              "      <td>2633</td>\n",
              "    </tr>\n",
              "    <tr>\n",
              "      <th>9</th>\n",
              "      <td>2744</td>\n",
              "    </tr>\n",
              "    <tr>\n",
              "      <th>10</th>\n",
              "      <td>2872</td>\n",
              "    </tr>\n",
              "    <tr>\n",
              "      <th>11</th>\n",
              "      <td>2510</td>\n",
              "    </tr>\n",
              "    <tr>\n",
              "      <th>12</th>\n",
              "      <td>2598</td>\n",
              "    </tr>\n",
              "    <tr>\n",
              "      <th rowspan=\"7\" valign=\"top\">2016-2017</th>\n",
              "      <th>6</th>\n",
              "      <td>111</td>\n",
              "    </tr>\n",
              "    <tr>\n",
              "      <th>7</th>\n",
              "      <td>2567</td>\n",
              "    </tr>\n",
              "    <tr>\n",
              "      <th>8</th>\n",
              "      <td>2534</td>\n",
              "    </tr>\n",
              "    <tr>\n",
              "      <th>9</th>\n",
              "      <td>2673</td>\n",
              "    </tr>\n",
              "    <tr>\n",
              "      <th>10</th>\n",
              "      <td>2489</td>\n",
              "    </tr>\n",
              "    <tr>\n",
              "      <th>11</th>\n",
              "      <td>2773</td>\n",
              "    </tr>\n",
              "    <tr>\n",
              "      <th>12</th>\n",
              "      <td>2675</td>\n",
              "    </tr>\n",
              "    <tr>\n",
              "      <th rowspan=\"7\" valign=\"top\">2017-2018</th>\n",
              "      <th>6</th>\n",
              "      <td>114</td>\n",
              "    </tr>\n",
              "    <tr>\n",
              "      <th>7</th>\n",
              "      <td>2650</td>\n",
              "    </tr>\n",
              "    <tr>\n",
              "      <th>8</th>\n",
              "      <td>2527</td>\n",
              "    </tr>\n",
              "    <tr>\n",
              "      <th>9</th>\n",
              "      <td>2404</td>\n",
              "    </tr>\n",
              "    <tr>\n",
              "      <th>10</th>\n",
              "      <td>2581</td>\n",
              "    </tr>\n",
              "    <tr>\n",
              "      <th>11</th>\n",
              "      <td>2347</td>\n",
              "    </tr>\n",
              "    <tr>\n",
              "      <th>12</th>\n",
              "      <td>3002</td>\n",
              "    </tr>\n",
              "    <tr>\n",
              "      <th rowspan=\"7\" valign=\"top\">2018-2019</th>\n",
              "      <th>6</th>\n",
              "      <td>107</td>\n",
              "    </tr>\n",
              "    <tr>\n",
              "      <th>7</th>\n",
              "      <td>2625</td>\n",
              "    </tr>\n",
              "    <tr>\n",
              "      <th>8</th>\n",
              "      <td>2308</td>\n",
              "    </tr>\n",
              "    <tr>\n",
              "      <th>9</th>\n",
              "      <td>2331</td>\n",
              "    </tr>\n",
              "    <tr>\n",
              "      <th>10</th>\n",
              "      <td>2392</td>\n",
              "    </tr>\n",
              "    <tr>\n",
              "      <th>11</th>\n",
              "      <td>2273</td>\n",
              "    </tr>\n",
              "    <tr>\n",
              "      <th>12</th>\n",
              "      <td>2633</td>\n",
              "    </tr>\n",
              "    <tr>\n",
              "      <th rowspan=\"7\" valign=\"top\">2019-2020</th>\n",
              "      <th>6</th>\n",
              "      <td>3031</td>\n",
              "    </tr>\n",
              "    <tr>\n",
              "      <th>7</th>\n",
              "      <td>3944</td>\n",
              "    </tr>\n",
              "    <tr>\n",
              "      <th>8</th>\n",
              "      <td>3061</td>\n",
              "    </tr>\n",
              "    <tr>\n",
              "      <th>9</th>\n",
              "      <td>3309</td>\n",
              "    </tr>\n",
              "    <tr>\n",
              "      <th>10</th>\n",
              "      <td>3672</td>\n",
              "    </tr>\n",
              "    <tr>\n",
              "      <th>11</th>\n",
              "      <td>3321</td>\n",
              "    </tr>\n",
              "    <tr>\n",
              "      <th>12</th>\n",
              "      <td>3276</td>\n",
              "    </tr>\n",
              "  </tbody>\n",
              "</table>\n",
              "</div>"
            ],
            "text/plain": [
              "                   Gender\n",
              "School Year Grade        \n",
              "2015-2016   6          79\n",
              "            7        2497\n",
              "            8        2633\n",
              "            9        2744\n",
              "            10       2872\n",
              "            11       2510\n",
              "            12       2598\n",
              "2016-2017   6         111\n",
              "            7        2567\n",
              "            8        2534\n",
              "            9        2673\n",
              "            10       2489\n",
              "            11       2773\n",
              "            12       2675\n",
              "2017-2018   6         114\n",
              "            7        2650\n",
              "            8        2527\n",
              "            9        2404\n",
              "            10       2581\n",
              "            11       2347\n",
              "            12       3002\n",
              "2018-2019   6         107\n",
              "            7        2625\n",
              "            8        2308\n",
              "            9        2331\n",
              "            10       2392\n",
              "            11       2273\n",
              "            12       2633\n",
              "2019-2020   6        3031\n",
              "            7        3944\n",
              "            8        3061\n",
              "            9        3309\n",
              "            10       3672\n",
              "            11       3321\n",
              "            12       3276"
            ]
          },
          "metadata": {
            "tags": []
          },
          "execution_count": 28
        }
      ]
    },
    {
      "cell_type": "code",
      "metadata": {
        "id": "9k2Ds-MQa7SR",
        "colab_type": "code",
        "colab": {
          "base_uri": "https://localhost:8080/",
          "height": 102
        },
        "outputId": "9510afe7-2428-4aa7-ace1-95d7a6607a34"
      },
      "source": [
        "df['City'][df['City']=='AverillPark'] = 'Averill Park'"
      ],
      "execution_count": 29,
      "outputs": [
        {
          "output_type": "stream",
          "text": [
            "/usr/local/lib/python3.6/dist-packages/ipykernel_launcher.py:1: SettingWithCopyWarning: \n",
            "A value is trying to be set on a copy of a slice from a DataFrame\n",
            "\n",
            "See the caveats in the documentation: https://pandas.pydata.org/pandas-docs/stable/user_guide/indexing.html#returning-a-view-versus-a-copy\n",
            "  \"\"\"Entry point for launching an IPython kernel.\n"
          ],
          "name": "stderr"
        }
      ]
    },
    {
      "cell_type": "code",
      "metadata": {
        "id": "GYfBMmqnT5M1",
        "colab_type": "code",
        "colab": {}
      },
      "source": [
        "add=df[~df['Street'].isnull()]"
      ],
      "execution_count": 0,
      "outputs": []
    },
    {
      "cell_type": "code",
      "metadata": {
        "id": "THXjZf_YfA93",
        "colab_type": "code",
        "colab": {}
      },
      "source": [
        "addressesnotnull=add.drop_duplicates(subset='Student ID')"
      ],
      "execution_count": 0,
      "outputs": []
    },
    {
      "cell_type": "code",
      "metadata": {
        "id": "Gc5GtZSyUkIX",
        "colab_type": "code",
        "colab": {
          "base_uri": "https://localhost:8080/",
          "height": 748
        },
        "outputId": "d16fd8d0-25c7-443f-aa07-3c0b74f05c75"
      },
      "source": [
        "addressesnotnull.City.value_counts(1)"
      ],
      "execution_count": 32,
      "outputs": [
        {
          "output_type": "execute_result",
          "data": {
            "text/plain": [
              "Averill Park        0.379029\n",
              "Wynantskill         0.216376\n",
              "West Sand Lake      0.125232\n",
              "Poestenkill         0.083364\n",
              "Troy                0.080400\n",
              "Sand Lake           0.029270\n",
              "East Nassau         0.018525\n",
              "East Greenbush      0.015932\n",
              "Stephentown         0.011856\n",
              "Nassau              0.010374\n",
              "Rensselaer          0.008151\n",
              "Castleton           0.003335\n",
              "Watervliet          0.001853\n",
              "Albany              0.001482\n",
              "North Greenbush     0.001112\n",
              "Berlin              0.001112\n",
              "Cohoes              0.001112\n",
              "Petersburg          0.001112\n",
              "Purling             0.000741\n",
              "Cropseyville        0.000741\n",
              "Schodack Landing    0.000741\n",
              "CHeektowaga         0.000741\n",
              "Palatine Bridge     0.000371\n",
              "Delmar              0.000371\n",
              "Brunswick           0.000371\n",
              "Greenville          0.000371\n",
              "Altamont            0.000371\n",
              "Mechanicville       0.000371\n",
              "Freehold            0.000371\n",
              "Round Top           0.000371\n",
              "East Durham         0.000371\n",
              "Port Deposit        0.000371\n",
              "East Berne          0.000371\n",
              "Fishers Island      0.000371\n",
              "Pattersonville      0.000371\n",
              "Schenectady         0.000371\n",
              "Colonie             0.000371\n",
              "Belmont             0.000371\n",
              "Lake Luzerne        0.000371\n",
              "Waterford           0.000371\n",
              "Hoosick Falls       0.000371\n",
              "Acra                0.000371\n",
              "Name: City, dtype: float64"
            ]
          },
          "metadata": {
            "tags": []
          },
          "execution_count": 32
        }
      ]
    },
    {
      "cell_type": "code",
      "metadata": {
        "id": "mYZHtcWBWWpi",
        "colab_type": "code",
        "colab": {
          "base_uri": "https://localhost:8080/",
          "height": 85
        },
        "outputId": "26fd672f-f67e-4dfd-8aed-9a756bbe718c"
      },
      "source": [
        "addressesnotnull.State.value_counts(1)"
      ],
      "execution_count": 33,
      "outputs": [
        {
          "output_type": "execute_result",
          "data": {
            "text/plain": [
              "NY    0.999259\n",
              "NH    0.000371\n",
              "MD    0.000371\n",
              "Name: State, dtype: float64"
            ]
          },
          "metadata": {
            "tags": []
          },
          "execution_count": 33
        }
      ]
    },
    {
      "cell_type": "code",
      "metadata": {
        "id": "tGkud8vdbQRX",
        "colab_type": "code",
        "colab": {
          "base_uri": "https://localhost:8080/",
          "height": 748
        },
        "outputId": "c228c749-2c5d-4334-b60e-ebce70818a9c"
      },
      "source": [
        "addressesnotnull.City.value_counts(1)"
      ],
      "execution_count": 34,
      "outputs": [
        {
          "output_type": "execute_result",
          "data": {
            "text/plain": [
              "Averill Park        0.379029\n",
              "Wynantskill         0.216376\n",
              "West Sand Lake      0.125232\n",
              "Poestenkill         0.083364\n",
              "Troy                0.080400\n",
              "Sand Lake           0.029270\n",
              "East Nassau         0.018525\n",
              "East Greenbush      0.015932\n",
              "Stephentown         0.011856\n",
              "Nassau              0.010374\n",
              "Rensselaer          0.008151\n",
              "Castleton           0.003335\n",
              "Watervliet          0.001853\n",
              "Albany              0.001482\n",
              "North Greenbush     0.001112\n",
              "Berlin              0.001112\n",
              "Cohoes              0.001112\n",
              "Petersburg          0.001112\n",
              "Purling             0.000741\n",
              "Cropseyville        0.000741\n",
              "Schodack Landing    0.000741\n",
              "CHeektowaga         0.000741\n",
              "Palatine Bridge     0.000371\n",
              "Delmar              0.000371\n",
              "Brunswick           0.000371\n",
              "Greenville          0.000371\n",
              "Altamont            0.000371\n",
              "Mechanicville       0.000371\n",
              "Freehold            0.000371\n",
              "Round Top           0.000371\n",
              "East Durham         0.000371\n",
              "Port Deposit        0.000371\n",
              "East Berne          0.000371\n",
              "Fishers Island      0.000371\n",
              "Pattersonville      0.000371\n",
              "Schenectady         0.000371\n",
              "Colonie             0.000371\n",
              "Belmont             0.000371\n",
              "Lake Luzerne        0.000371\n",
              "Waterford           0.000371\n",
              "Hoosick Falls       0.000371\n",
              "Acra                0.000371\n",
              "Name: City, dtype: float64"
            ]
          },
          "metadata": {
            "tags": []
          },
          "execution_count": 34
        }
      ]
    },
    {
      "cell_type": "code",
      "metadata": {
        "id": "Q22XJaqhWnhJ",
        "colab_type": "code",
        "colab": {
          "base_uri": "https://localhost:8080/",
          "height": 480
        },
        "outputId": "8e3d7a8b-7d84-492d-bf68-7c5ddb4fa13f"
      },
      "source": [
        "addressesnotnull.City.value_counts().plot(kind='bar',figsize=(20,5),fontsize=15,title ='City Distribution of Students')"
      ],
      "execution_count": 35,
      "outputs": [
        {
          "output_type": "execute_result",
          "data": {
            "text/plain": [
              "<matplotlib.axes._subplots.AxesSubplot at 0x7f740bffd6a0>"
            ]
          },
          "metadata": {
            "tags": []
          },
          "execution_count": 35
        },
        {
          "output_type": "display_data",
          "data": {
            "image/png": "[encoded data removed]",
            "text/plain": [
              "<Figure size 1440x360 with 1 Axes>"
            ]
          },
          "metadata": {
            "tags": []
          }
        }
      ]
    },
    {
      "cell_type": "code",
      "metadata": {
        "id": "ym3772VqaRaJ",
        "colab_type": "code",
        "colab": {
          "base_uri": "https://localhost:8080/",
          "height": 34
        },
        "outputId": "976fba59-4b2f-4c28-9bb8-e9add1901c0d"
      },
      "source": [
        "len(addressesnotnull.City.unique())"
      ],
      "execution_count": 36,
      "outputs": [
        {
          "output_type": "execute_result",
          "data": {
            "text/plain": [
              "42"
            ]
          },
          "metadata": {
            "tags": []
          },
          "execution_count": 36
        }
      ]
    },
    {
      "cell_type": "code",
      "metadata": {
        "id": "dcm8yqbIXF9M",
        "colab_type": "code",
        "colab": {
          "base_uri": "https://localhost:8080/",
          "height": 765
        },
        "outputId": "580a219a-8a03-4db2-b2ca-bfcdcb6c1ca9"
      },
      "source": [
        "addressesnotnull.Zip.value_counts(1)"
      ],
      "execution_count": 37,
      "outputs": [
        {
          "output_type": "execute_result",
          "data": {
            "text/plain": [
              "12018.0    0.379770\n",
              "12198.0    0.217117\n",
              "12196.0    0.125232\n",
              "12140.0    0.083364\n",
              "12180.0    0.080771\n",
              "12153.0    0.029270\n",
              "12062.0    0.019637\n",
              "12061.0    0.015932\n",
              "12123.0    0.009263\n",
              "12169.0    0.008151\n",
              "12144.0    0.008151\n",
              "12168.0    0.003705\n",
              "12033.0    0.003705\n",
              "12189.0    0.001853\n",
              "12047.0    0.001112\n",
              "12022.0    0.001112\n",
              "12138.0    0.001112\n",
              "12052.0    0.000741\n",
              "12204.0    0.000741\n",
              "12470.0    0.000741\n",
              "12205.0    0.000371\n",
              "12187.0    0.000371\n",
              "12423.0    0.000371\n",
              "12431.0    0.000371\n",
              "6390.0     0.000371\n",
              "3220.0     0.000371\n",
              "12304.0    0.000371\n",
              "12118.0    0.000371\n",
              "12059.0    0.000371\n",
              "12473.0    0.000371\n",
              "12210.0    0.000371\n",
              "12182.0    0.000371\n",
              "12405.0    0.000371\n",
              "12188.0    0.000371\n",
              "13428.0    0.000371\n",
              "12090.0    0.000371\n",
              "21904.0    0.000371\n",
              "12083.0    0.000371\n",
              "12846.0    0.000371\n",
              "12208.0    0.000371\n",
              "12054.0    0.000371\n",
              "12009.0    0.000371\n",
              "12156.0    0.000371\n",
              "Name: Zip, dtype: float64"
            ]
          },
          "metadata": {
            "tags": []
          },
          "execution_count": 37
        }
      ]
    },
    {
      "cell_type": "code",
      "metadata": {
        "id": "BuyQHFTPXi51",
        "colab_type": "code",
        "colab": {
          "base_uri": "https://localhost:8080/",
          "height": 221
        },
        "outputId": "86e729a3-6d89-4cdd-a65b-6c2bcdccb259"
      },
      "source": [
        "addressesnotnull.Street.value_counts(1).sort_values()"
      ],
      "execution_count": 38,
      "outputs": [
        {
          "output_type": "execute_result",
          "data": {
            "text/plain": [
              "Schodack Drive       0.000371\n",
              "Dahl Way             0.000371\n",
              "Van Slyke Lane       0.000371\n",
              "Coonradt Blvd        0.000371\n",
              "Harriman Road Ext    0.000371\n",
              "                       ...   \n",
              "Francis Drive        0.014820\n",
              "NY Highway 43        0.014820\n",
              "Kent Place           0.015561\n",
              "Burden Lake Road     0.017414\n",
              "NY 43                0.023342\n",
              "Name: Street, Length: 705, dtype: float64"
            ]
          },
          "metadata": {
            "tags": []
          },
          "execution_count": 38
        }
      ]
    },
    {
      "cell_type": "code",
      "metadata": {
        "id": "0Uh4jECnahKj",
        "colab_type": "code",
        "colab": {}
      },
      "source": [
        "# # ddd=addressesnotnull.Street.value_counts(1).sort_values()\n",
        "\n",
        "# ddd.to_csv('ddd.csv')\n",
        "\n",
        "# files.download('ddd.csv')"
      ],
      "execution_count": 0,
      "outputs": []
    },
    {
      "cell_type": "code",
      "metadata": {
        "id": "QAOI1roIgxMu",
        "colab_type": "code",
        "colab": {
          "base_uri": "https://localhost:8080/",
          "height": 450
        },
        "outputId": "13c64667-757e-4623-bcff-f23870f6fc54"
      },
      "source": [
        "addressesnotnull[['City','Street','StreetNum']].groupby(['City','Street']).count()"
      ],
      "execution_count": 40,
      "outputs": [
        {
          "output_type": "execute_result",
          "data": {
            "text/html": [
              "<div>\n",
              "<style scoped>\n",
              "    .dataframe tbody tr th:only-of-type {\n",
              "        vertical-align: middle;\n",
              "    }\n",
              "\n",
              "    .dataframe tbody tr th {\n",
              "        vertical-align: top;\n",
              "    }\n",
              "\n",
              "    .dataframe thead th {\n",
              "        text-align: right;\n",
              "    }\n",
              "</style>\n",
              "<table border=\"1\" class=\"dataframe\">\n",
              "  <thead>\n",
              "    <tr style=\"text-align: right;\">\n",
              "      <th></th>\n",
              "      <th></th>\n",
              "      <th>StreetNum</th>\n",
              "    </tr>\n",
              "    <tr>\n",
              "      <th>City</th>\n",
              "      <th>Street</th>\n",
              "      <th></th>\n",
              "    </tr>\n",
              "  </thead>\n",
              "  <tbody>\n",
              "    <tr>\n",
              "      <th>Acra</th>\n",
              "      <th>Route 31</th>\n",
              "      <td>1</td>\n",
              "    </tr>\n",
              "    <tr>\n",
              "      <th rowspan=\"3\" valign=\"top\">Albany</th>\n",
              "      <th>Colonial Avenue</th>\n",
              "      <td>1</td>\n",
              "    </tr>\n",
              "    <tr>\n",
              "      <th>Dutch Village</th>\n",
              "      <td>2</td>\n",
              "    </tr>\n",
              "    <tr>\n",
              "      <th>Hamilton Strret Apt 4</th>\n",
              "      <td>1</td>\n",
              "    </tr>\n",
              "    <tr>\n",
              "      <th>Altamont</th>\n",
              "      <th>Township Road</th>\n",
              "      <td>1</td>\n",
              "    </tr>\n",
              "    <tr>\n",
              "      <th>...</th>\n",
              "      <th>...</th>\n",
              "      <td>...</td>\n",
              "    </tr>\n",
              "    <tr>\n",
              "      <th rowspan=\"5\" valign=\"top\">Wynantskill</th>\n",
              "      <th>White Tail Circle</th>\n",
              "      <td>14</td>\n",
              "    </tr>\n",
              "    <tr>\n",
              "      <th>Whiteview Road</th>\n",
              "      <td>1</td>\n",
              "    </tr>\n",
              "    <tr>\n",
              "      <th>Williams Street</th>\n",
              "      <td>3</td>\n",
              "    </tr>\n",
              "    <tr>\n",
              "      <th>Willow Lane</th>\n",
              "      <td>3</td>\n",
              "    </tr>\n",
              "    <tr>\n",
              "      <th>Woodbury Hill Road</th>\n",
              "      <td>1</td>\n",
              "    </tr>\n",
              "  </tbody>\n",
              "</table>\n",
              "<p>758 rows × 1 columns</p>\n",
              "</div>"
            ],
            "text/plain": [
              "                                   StreetNum\n",
              "City        Street                          \n",
              "Acra        Route 31                       1\n",
              "Albany      Colonial Avenue                1\n",
              "            Dutch Village                  2\n",
              "            Hamilton Strret Apt 4          1\n",
              "Altamont    Township Road                  1\n",
              "...                                      ...\n",
              "Wynantskill White Tail Circle             14\n",
              "            Whiteview Road                 1\n",
              "            Williams Street                3\n",
              "            Willow Lane                    3\n",
              "            Woodbury Hill Road             1\n",
              "\n",
              "[758 rows x 1 columns]"
            ]
          },
          "metadata": {
            "tags": []
          },
          "execution_count": 40
        }
      ]
    },
    {
      "cell_type": "code",
      "metadata": {
        "id": "6AOk9l4uqYmD",
        "colab_type": "code",
        "colab": {
          "base_uri": "https://localhost:8080/",
          "height": 207
        },
        "outputId": "7607513e-c499-47b7-c9cc-b6b729d6e54e"
      },
      "source": [
        "df2.Gender.value_counts().plot(kind='barh',subplots=True,figsize=(8,2))"
      ],
      "execution_count": 41,
      "outputs": [
        {
          "output_type": "execute_result",
          "data": {
            "text/plain": [
              "array([<matplotlib.axes._subplots.AxesSubplot object at 0x7f740aea9a20>],\n",
              "      dtype=object)"
            ]
          },
          "metadata": {
            "tags": []
          },
          "execution_count": 41
        },
        {
          "output_type": "display_data",
          "data": {
            "image/png": "[encoded data removed]",
            "text/plain": [
              "<Figure size 576x144 with 1 Axes>"
            ]
          },
          "metadata": {
            "tags": []
          }
        }
      ]
    },
    {
      "cell_type": "code",
      "metadata": {
        "id": "7v3r9RHc-v27",
        "colab_type": "code",
        "colab": {
          "base_uri": "https://localhost:8080/",
          "height": 68
        },
        "outputId": "c0711e96-1f8c-4fb6-e09a-6cf12fab476d"
      },
      "source": [
        "mid2.Gender.value_counts(1)"
      ],
      "execution_count": 42,
      "outputs": [
        {
          "output_type": "execute_result",
          "data": {
            "text/plain": [
              "Female    0.50894\n",
              "Male      0.49106\n",
              "Name: Gender, dtype: float64"
            ]
          },
          "metadata": {
            "tags": []
          },
          "execution_count": 42
        }
      ]
    },
    {
      "cell_type": "code",
      "metadata": {
        "id": "MLA1xaTZ-wH5",
        "colab_type": "code",
        "colab": {
          "base_uri": "https://localhost:8080/",
          "height": 68
        },
        "outputId": "78fb6b01-916b-4fee-de2f-d136d1446bd2"
      },
      "source": [
        "high2.Gender.value_counts(1)"
      ],
      "execution_count": 43,
      "outputs": [
        {
          "output_type": "execute_result",
          "data": {
            "text/plain": [
              "Male      0.506573\n",
              "Female    0.493427\n",
              "Name: Gender, dtype: float64"
            ]
          },
          "metadata": {
            "tags": []
          },
          "execution_count": 43
        }
      ]
    },
    {
      "cell_type": "code",
      "metadata": {
        "id": "Jqm-AWuFsH_Q",
        "colab_type": "code",
        "colab": {
          "base_uri": "https://localhost:8080/",
          "height": 261
        },
        "outputId": "7e1e8852-6d80-4949-c29e-9e6e84e0cb1e"
      },
      "source": [
        "df2.Ethnicity.value_counts().plot(kind='barh',subplots=True,figsize=(10,3))\n"
      ],
      "execution_count": 44,
      "outputs": [
        {
          "output_type": "execute_result",
          "data": {
            "text/plain": [
              "array([<matplotlib.axes._subplots.AxesSubplot object at 0x7f740968dc88>],\n",
              "      dtype=object)"
            ]
          },
          "metadata": {
            "tags": []
          },
          "execution_count": 44
        },
        {
          "output_type": "display_data",
          "data": {
            "image/png": "[encoded data removed]",
            "text/plain": [
              "<Figure size 720x216 with 1 Axes>"
            ]
          },
          "metadata": {
            "tags": []
          }
        }
      ]
    },
    {
      "cell_type": "code",
      "metadata": {
        "id": "wwTsgg5P-go-",
        "colab_type": "code",
        "colab": {}
      },
      "source": [
        ""
      ],
      "execution_count": 0,
      "outputs": []
    },
    {
      "cell_type": "code",
      "metadata": {
        "id": "AKzxXqXCsTwL",
        "colab_type": "code",
        "colab": {
          "base_uri": "https://localhost:8080/",
          "height": 207
        },
        "outputId": "04b6d021-08f4-486e-ce48-badb7ba2fe83"
      },
      "source": [
        "df2.Poverty.value_counts().plot(kind = 'barh',figsize=(10,2),subplots=True)"
      ],
      "execution_count": 45,
      "outputs": [
        {
          "output_type": "execute_result",
          "data": {
            "text/plain": [
              "array([<matplotlib.axes._subplots.AxesSubplot object at 0x7f740962b860>],\n",
              "      dtype=object)"
            ]
          },
          "metadata": {
            "tags": []
          },
          "execution_count": 45
        },
        {
          "output_type": "display_data",
          "data": {
            "image/png": "[encoded data removed]",
            "text/plain": [
              "<Figure size 720x144 with 1 Axes>"
            ]
          },
          "metadata": {
            "tags": []
          }
        }
      ]
    },
    {
      "cell_type": "code",
      "metadata": {
        "id": "AqRjpichu6xo",
        "colab_type": "code",
        "colab": {
          "base_uri": "https://localhost:8080/",
          "height": 390
        },
        "outputId": "5d303a4a-383a-4962-a2c8-10391c844b88"
      },
      "source": [
        "import seaborn as sns\n",
        "plt.figure(figsize=(20,5))\n",
        "sns.set(font_scale=2.5)\n",
        "sns.boxplot( x= df.FinalAverage,y= df.Poverty,orient='h')"
      ],
      "execution_count": 46,
      "outputs": [
        {
          "output_type": "execute_result",
          "data": {
            "text/plain": [
              "<matplotlib.axes._subplots.AxesSubplot at 0x7f740963ef60>"
            ]
          },
          "metadata": {
            "tags": []
          },
          "execution_count": 46
        },
        {
          "output_type": "display_data",
          "data": {
            "image/png": "[encoded data removed]",
            "text/plain": [
              "<Figure size 1440x360 with 1 Axes>"
            ]
          },
          "metadata": {
            "tags": []
          }
        }
      ]
    },
    {
      "cell_type": "code",
      "metadata": {
        "id": "gkFuJLRawucm",
        "colab_type": "code",
        "colab": {
          "base_uri": "https://localhost:8080/",
          "height": 424
        },
        "outputId": "2befa3b2-3dfa-4b88-cedf-e6bd027e6144"
      },
      "source": [
        "import seaborn as sns\n",
        "plt.figure(figsize=(15,6))\n",
        "sns.set(font_scale=1.5)\n",
        "sns.boxplot(x = df.FinalAverage,y= df.Ethnicity)"
      ],
      "execution_count": 47,
      "outputs": [
        {
          "output_type": "execute_result",
          "data": {
            "text/plain": [
              "<matplotlib.axes._subplots.AxesSubplot at 0x7f74095d77f0>"
            ]
          },
          "metadata": {
            "tags": []
          },
          "execution_count": 47
        },
        {
          "output_type": "display_data",
          "data": {
            "image/png": "[encoded data removed]",
            "text/plain": [
              "<Figure size 1080x432 with 1 Axes>"
            ]
          },
          "metadata": {
            "tags": []
          }
        }
      ]
    },
    {
      "cell_type": "code",
      "metadata": {
        "id": "IYeGqfVe78ub",
        "colab_type": "code",
        "colab": {
          "base_uri": "https://localhost:8080/",
          "height": 119
        },
        "outputId": "7d66c162-1729-4316-8925-58c71901a996"
      },
      "source": [
        "df2.Ethnicity.value_counts(1)"
      ],
      "execution_count": 48,
      "outputs": [
        {
          "output_type": "execute_result",
          "data": {
            "text/plain": [
              "White                        0.922793\n",
              "Hispanic or Latino           0.029553\n",
              "Multiracial                  0.024751\n",
              "Asian                        0.014407\n",
              "Black or African American    0.008496\n",
              "Name: Ethnicity, dtype: float64"
            ]
          },
          "metadata": {
            "tags": []
          },
          "execution_count": 48
        }
      ]
    },
    {
      "cell_type": "code",
      "metadata": {
        "id": "EwMHTj4Ov-Tc",
        "colab_type": "code",
        "colab": {
          "base_uri": "https://localhost:8080/",
          "height": 315
        },
        "outputId": "00f68091-c9f6-4d58-ece7-ef0dfa81fffe"
      },
      "source": [
        "sns.distplot(df.FinalAverage)"
      ],
      "execution_count": 49,
      "outputs": [
        {
          "output_type": "execute_result",
          "data": {
            "text/plain": [
              "<matplotlib.axes._subplots.AxesSubplot at 0x7f74094e8128>"
            ]
          },
          "metadata": {
            "tags": []
          },
          "execution_count": 49
        },
        {
          "output_type": "display_data",
          "data": {
            "image/png": "[encoded data removed]",
            "text/plain": [
              "<Figure size 432x288 with 1 Axes>"
            ]
          },
          "metadata": {
            "tags": []
          }
        }
      ]
    },
    {
      "cell_type": "code",
      "metadata": {
        "id": "UGf-UoHouXS_",
        "colab_type": "code",
        "colab": {
          "base_uri": "https://localhost:8080/",
          "height": 34
        },
        "outputId": "7e3ec068-b354-4a2b-f967-e856757c4ca4"
      },
      "source": [
        "len(list(set(df['Student ID'][df['Poverty']==1].unique().tolist()) & set(df['Student ID'][df['Poverty']==0].unique().tolist())))"
      ],
      "execution_count": 50,
      "outputs": [
        {
          "output_type": "execute_result",
          "data": {
            "text/plain": [
              "151"
            ]
          },
          "metadata": {
            "tags": []
          },
          "execution_count": 50
        }
      ]
    },
    {
      "cell_type": "code",
      "metadata": {
        "id": "sfqWqJ1oywQT",
        "colab_type": "code",
        "colab": {
          "base_uri": "https://localhost:8080/",
          "height": 390
        },
        "outputId": "29370f04-71f7-4d8f-b123-35cefd77c02d"
      },
      "source": [
        "df2[['School Year', 'Gender','Poverty']].groupby(['School Year','Gender']).count()"
      ],
      "execution_count": 51,
      "outputs": [
        {
          "output_type": "execute_result",
          "data": {
            "text/html": [
              "<div>\n",
              "<style scoped>\n",
              "    .dataframe tbody tr th:only-of-type {\n",
              "        vertical-align: middle;\n",
              "    }\n",
              "\n",
              "    .dataframe tbody tr th {\n",
              "        vertical-align: top;\n",
              "    }\n",
              "\n",
              "    .dataframe thead th {\n",
              "        text-align: right;\n",
              "    }\n",
              "</style>\n",
              "<table border=\"1\" class=\"dataframe\">\n",
              "  <thead>\n",
              "    <tr style=\"text-align: right;\">\n",
              "      <th></th>\n",
              "      <th></th>\n",
              "      <th>Poverty</th>\n",
              "    </tr>\n",
              "    <tr>\n",
              "      <th>School Year</th>\n",
              "      <th>Gender</th>\n",
              "      <th></th>\n",
              "    </tr>\n",
              "  </thead>\n",
              "  <tbody>\n",
              "    <tr>\n",
              "      <th rowspan=\"2\" valign=\"top\">2015-2016</th>\n",
              "      <th>Female</th>\n",
              "      <td>716</td>\n",
              "    </tr>\n",
              "    <tr>\n",
              "      <th>Male</th>\n",
              "      <td>717</td>\n",
              "    </tr>\n",
              "    <tr>\n",
              "      <th rowspan=\"2\" valign=\"top\">2016-2017</th>\n",
              "      <th>Female</th>\n",
              "      <td>149</td>\n",
              "    </tr>\n",
              "    <tr>\n",
              "      <th>Male</th>\n",
              "      <td>157</td>\n",
              "    </tr>\n",
              "    <tr>\n",
              "      <th rowspan=\"2\" valign=\"top\">2017-2018</th>\n",
              "      <th>Female</th>\n",
              "      <td>135</td>\n",
              "    </tr>\n",
              "    <tr>\n",
              "      <th>Male</th>\n",
              "      <td>124</td>\n",
              "    </tr>\n",
              "    <tr>\n",
              "      <th rowspan=\"2\" valign=\"top\">2018-2019</th>\n",
              "      <th>Female</th>\n",
              "      <td>138</td>\n",
              "    </tr>\n",
              "    <tr>\n",
              "      <th>Male</th>\n",
              "      <td>123</td>\n",
              "    </tr>\n",
              "    <tr>\n",
              "      <th rowspan=\"2\" valign=\"top\">2019-2020</th>\n",
              "      <th>Female</th>\n",
              "      <td>222</td>\n",
              "    </tr>\n",
              "    <tr>\n",
              "      <th>Male</th>\n",
              "      <td>226</td>\n",
              "    </tr>\n",
              "  </tbody>\n",
              "</table>\n",
              "</div>"
            ],
            "text/plain": [
              "                    Poverty\n",
              "School Year Gender         \n",
              "2015-2016   Female      716\n",
              "            Male        717\n",
              "2016-2017   Female      149\n",
              "            Male        157\n",
              "2017-2018   Female      135\n",
              "            Male        124\n",
              "2018-2019   Female      138\n",
              "            Male        123\n",
              "2019-2020   Female      222\n",
              "            Male        226"
            ]
          },
          "metadata": {
            "tags": []
          },
          "execution_count": 51
        }
      ]
    },
    {
      "cell_type": "code",
      "metadata": {
        "id": "D6FpWSptUYxD",
        "colab_type": "code",
        "colab": {
          "base_uri": "https://localhost:8080/",
          "height": 119
        },
        "outputId": "adea3b40-e086-4746-8d13-8119f874ec06"
      },
      "source": [
        "df.columns"
      ],
      "execution_count": 52,
      "outputs": [
        {
          "output_type": "execute_result",
          "data": {
            "text/plain": [
              "Index(['School Year', 'Building', 'Student ID', 'Grade', 'StreetNum', 'Street',\n",
              "       'City', 'State', 'Zip', 'Gender', 'Ethnicity', 'Poverty',\n",
              "       'ELL Eligible', 'CourseName', 'CourseDepartment', 'CourseID',\n",
              "       'FinalAverage', 'MP1Average', 'MP2Average', 'MP3Average', 'MP4Average',\n",
              "       'BusAM', 'BUSPM', 'AMBusDestination', 'PMBUSDestination'],\n",
              "      dtype='object')"
            ]
          },
          "metadata": {
            "tags": []
          },
          "execution_count": 52
        }
      ]
    },
    {
      "cell_type": "code",
      "metadata": {
        "id": "eXTahDQLUcP-",
        "colab_type": "code",
        "colab": {
          "base_uri": "https://localhost:8080/",
          "height": 68
        },
        "outputId": "d8b4e4c7-1af0-47f0-843a-39ee9fe1ce4f"
      },
      "source": [
        "df2['ELL Eligible'].value_counts()"
      ],
      "execution_count": 53,
      "outputs": [
        {
          "output_type": "execute_result",
          "data": {
            "text/plain": [
              "0    2695\n",
              "1      12\n",
              "Name: ELL Eligible, dtype: int64"
            ]
          },
          "metadata": {
            "tags": []
          },
          "execution_count": 53
        }
      ]
    },
    {
      "cell_type": "code",
      "metadata": {
        "id": "3BjK2kgKVDzB",
        "colab_type": "code",
        "colab": {
          "base_uri": "https://localhost:8080/",
          "height": 204
        },
        "outputId": "22e84b5c-b5cd-4b47-a537-c56467405a33"
      },
      "source": [
        "df2[['Poverty','ELL Eligible','CourseName']].groupby(['Poverty','ELL Eligible']).count()"
      ],
      "execution_count": 54,
      "outputs": [
        {
          "output_type": "execute_result",
          "data": {
            "text/html": [
              "<div>\n",
              "<style scoped>\n",
              "    .dataframe tbody tr th:only-of-type {\n",
              "        vertical-align: middle;\n",
              "    }\n",
              "\n",
              "    .dataframe tbody tr th {\n",
              "        vertical-align: top;\n",
              "    }\n",
              "\n",
              "    .dataframe thead th {\n",
              "        text-align: right;\n",
              "    }\n",
              "</style>\n",
              "<table border=\"1\" class=\"dataframe\">\n",
              "  <thead>\n",
              "    <tr style=\"text-align: right;\">\n",
              "      <th></th>\n",
              "      <th></th>\n",
              "      <th>CourseName</th>\n",
              "    </tr>\n",
              "    <tr>\n",
              "      <th>Poverty</th>\n",
              "      <th>ELL Eligible</th>\n",
              "      <th></th>\n",
              "    </tr>\n",
              "  </thead>\n",
              "  <tbody>\n",
              "    <tr>\n",
              "      <th rowspan=\"2\" valign=\"top\">0</th>\n",
              "      <th>0</th>\n",
              "      <td>2107</td>\n",
              "    </tr>\n",
              "    <tr>\n",
              "      <th>1</th>\n",
              "      <td>1</td>\n",
              "    </tr>\n",
              "    <tr>\n",
              "      <th rowspan=\"2\" valign=\"top\">1</th>\n",
              "      <th>0</th>\n",
              "      <td>588</td>\n",
              "    </tr>\n",
              "    <tr>\n",
              "      <th>1</th>\n",
              "      <td>11</td>\n",
              "    </tr>\n",
              "  </tbody>\n",
              "</table>\n",
              "</div>"
            ],
            "text/plain": [
              "                      CourseName\n",
              "Poverty ELL Eligible            \n",
              "0       0                   2107\n",
              "        1                      1\n",
              "1       0                    588\n",
              "        1                     11"
            ]
          },
          "metadata": {
            "tags": []
          },
          "execution_count": 54
        }
      ]
    },
    {
      "cell_type": "code",
      "metadata": {
        "id": "9GwrHYRVVEB0",
        "colab_type": "code",
        "colab": {
          "base_uri": "https://localhost:8080/",
          "height": 456
        },
        "outputId": "815947c8-cf1c-431e-e886-12f8ae0c3da5"
      },
      "source": [
        "df[['ELL Eligible','Ethnicity','FinalAverage']].groupby(['ELL Eligible','Ethnicity']).mean().sort_values(by='FinalAverage').plot(kind='barh',figsize=(20,7))"
      ],
      "execution_count": 55,
      "outputs": [
        {
          "output_type": "execute_result",
          "data": {
            "text/plain": [
              "<matplotlib.axes._subplots.AxesSubplot at 0x7f740937ca58>"
            ]
          },
          "metadata": {
            "tags": []
          },
          "execution_count": 55
        },
        {
          "output_type": "display_data",
          "data": {
            "image/png": "[encoded data removed]",
            "text/plain": [
              "<Figure size 1440x504 with 1 Axes>"
            ]
          },
          "metadata": {
            "tags": []
          }
        }
      ]
    },
    {
      "cell_type": "code",
      "metadata": {
        "id": "4Jmmj99NVESi",
        "colab_type": "code",
        "colab": {
          "base_uri": "https://localhost:8080/",
          "height": 328
        },
        "outputId": "2111d08b-f506-481f-b598-062112108764"
      },
      "source": [
        "df2[['ELL Eligible','Ethnicity','FinalAverage']].groupby(['ELL Eligible','Ethnicity']).count()"
      ],
      "execution_count": 56,
      "outputs": [
        {
          "output_type": "execute_result",
          "data": {
            "text/html": [
              "<div>\n",
              "<style scoped>\n",
              "    .dataframe tbody tr th:only-of-type {\n",
              "        vertical-align: middle;\n",
              "    }\n",
              "\n",
              "    .dataframe tbody tr th {\n",
              "        vertical-align: top;\n",
              "    }\n",
              "\n",
              "    .dataframe thead th {\n",
              "        text-align: right;\n",
              "    }\n",
              "</style>\n",
              "<table border=\"1\" class=\"dataframe\">\n",
              "  <thead>\n",
              "    <tr style=\"text-align: right;\">\n",
              "      <th></th>\n",
              "      <th></th>\n",
              "      <th>FinalAverage</th>\n",
              "    </tr>\n",
              "    <tr>\n",
              "      <th>ELL Eligible</th>\n",
              "      <th>Ethnicity</th>\n",
              "      <th></th>\n",
              "    </tr>\n",
              "  </thead>\n",
              "  <tbody>\n",
              "    <tr>\n",
              "      <th rowspan=\"5\" valign=\"top\">0</th>\n",
              "      <th>Asian</th>\n",
              "      <td>31</td>\n",
              "    </tr>\n",
              "    <tr>\n",
              "      <th>Black or African American</th>\n",
              "      <td>18</td>\n",
              "    </tr>\n",
              "    <tr>\n",
              "      <th>Hispanic or Latino</th>\n",
              "      <td>60</td>\n",
              "    </tr>\n",
              "    <tr>\n",
              "      <th>Multiracial</th>\n",
              "      <td>43</td>\n",
              "    </tr>\n",
              "    <tr>\n",
              "      <th>White</th>\n",
              "      <td>2097</td>\n",
              "    </tr>\n",
              "    <tr>\n",
              "      <th rowspan=\"3\" valign=\"top\">1</th>\n",
              "      <th>Asian</th>\n",
              "      <td>1</td>\n",
              "    </tr>\n",
              "    <tr>\n",
              "      <th>Hispanic or Latino</th>\n",
              "      <td>7</td>\n",
              "    </tr>\n",
              "    <tr>\n",
              "      <th>White</th>\n",
              "      <td>1</td>\n",
              "    </tr>\n",
              "  </tbody>\n",
              "</table>\n",
              "</div>"
            ],
            "text/plain": [
              "                                        FinalAverage\n",
              "ELL Eligible Ethnicity                              \n",
              "0            Asian                                31\n",
              "             Black or African American            18\n",
              "             Hispanic or Latino                   60\n",
              "             Multiracial                          43\n",
              "             White                              2097\n",
              "1            Asian                                 1\n",
              "             Hispanic or Latino                    7\n",
              "             White                                 1"
            ]
          },
          "metadata": {
            "tags": []
          },
          "execution_count": 56
        }
      ]
    },
    {
      "cell_type": "code",
      "metadata": {
        "id": "CXhCIucM6atT",
        "colab_type": "code",
        "colab": {
          "base_uri": "https://localhost:8080/",
          "height": 34
        },
        "outputId": "59ff3223-c833-4b8a-89be-2a0b065f4c9d"
      },
      "source": [
        "df.shape"
      ],
      "execution_count": 57,
      "outputs": [
        {
          "output_type": "execute_result",
          "data": {
            "text/plain": [
              "(85663, 25)"
            ]
          },
          "metadata": {
            "tags": []
          },
          "execution_count": 57
        }
      ]
    },
    {
      "cell_type": "code",
      "metadata": {
        "id": "98M7gyHTVDs8",
        "colab_type": "code",
        "colab": {
          "base_uri": "https://localhost:8080/",
          "height": 221
        },
        "outputId": "5b170412-637e-4b74-d6b1-7b31be7adbb3"
      },
      "source": [
        "df.CourseName.value_counts()"
      ],
      "execution_count": 58,
      "outputs": [
        {
          "output_type": "execute_result",
          "data": {
            "text/plain": [
              "PE3-LIFETIME ACTIVITIES        3366\n",
              "PE1-STRENGTH & CONDITIONING    3228\n",
              "PE2-TEAM SPORTS                2535\n",
              "HEALTH                         1504\n",
              "Soc. St. 7                     1439\n",
              "                               ... \n",
              "HEALTHY SR. STUDY PROJECT         1\n",
              "NV-ECONOMICS HONORS               1\n",
              "PRODUCTION                        1\n",
              "APEX-SCIENCE                      1\n",
              "INTENSIVE MATH                    1\n",
              "Name: CourseName, Length: 449, dtype: int64"
            ]
          },
          "metadata": {
            "tags": []
          },
          "execution_count": 58
        }
      ]
    },
    {
      "cell_type": "code",
      "metadata": {
        "id": "GpTLW5uyVDpq",
        "colab_type": "code",
        "colab": {
          "base_uri": "https://localhost:8080/",
          "height": 639
        },
        "outputId": "e006d67a-ef70-44b0-e66e-a1691b19825d"
      },
      "source": [
        "df[['CourseDepartment','CourseName']].drop_duplicates(subset =['CourseDepartment','CourseName'], keep = 'first').groupby('CourseDepartment').count().sort_values(by='CourseName').plot(kind = 'barh', figsize=(10,10),title='Course Count for each Course Department')"
      ],
      "execution_count": 59,
      "outputs": [
        {
          "output_type": "execute_result",
          "data": {
            "text/plain": [
              "<matplotlib.axes._subplots.AxesSubplot at 0x7f7409477c88>"
            ]
          },
          "metadata": {
            "tags": []
          },
          "execution_count": 59
        },
        {
          "output_type": "display_data",
          "data": {
            "image/png": "[encoded data removed]",
            "text/plain": [
              "<Figure size 720x720 with 1 Axes>"
            ]
          },
          "metadata": {
            "tags": []
          }
        }
      ]
    },
    {
      "cell_type": "code",
      "metadata": {
        "id": "0oo9n7-VVDns",
        "colab_type": "code",
        "colab": {
          "base_uri": "https://localhost:8080/",
          "height": 34
        },
        "outputId": "f5d953b2-6108-4741-fba8-f092c00070ff"
      },
      "source": [
        "len(df.CourseDepartment.unique().tolist())"
      ],
      "execution_count": 60,
      "outputs": [
        {
          "output_type": "execute_result",
          "data": {
            "text/plain": [
              "19"
            ]
          },
          "metadata": {
            "tags": []
          },
          "execution_count": 60
        }
      ]
    },
    {
      "cell_type": "code",
      "metadata": {
        "id": "PW0FbDC9hCBV",
        "colab_type": "code",
        "colab": {
          "base_uri": "https://localhost:8080/",
          "height": 450
        },
        "outputId": "b78ba710-2f5a-468a-a5bd-15edab52eb83"
      },
      "source": [
        "df[['CourseName','CourseID','FinalAverage']].groupby(['CourseName','CourseID']).count()"
      ],
      "execution_count": 61,
      "outputs": [
        {
          "output_type": "execute_result",
          "data": {
            "text/html": [
              "<div>\n",
              "<style scoped>\n",
              "    .dataframe tbody tr th:only-of-type {\n",
              "        vertical-align: middle;\n",
              "    }\n",
              "\n",
              "    .dataframe tbody tr th {\n",
              "        vertical-align: top;\n",
              "    }\n",
              "\n",
              "    .dataframe thead th {\n",
              "        text-align: right;\n",
              "    }\n",
              "</style>\n",
              "<table border=\"1\" class=\"dataframe\">\n",
              "  <thead>\n",
              "    <tr style=\"text-align: right;\">\n",
              "      <th></th>\n",
              "      <th></th>\n",
              "      <th>FinalAverage</th>\n",
              "    </tr>\n",
              "    <tr>\n",
              "      <th>CourseName</th>\n",
              "      <th>CourseID</th>\n",
              "      <th></th>\n",
              "    </tr>\n",
              "  </thead>\n",
              "  <tbody>\n",
              "    <tr>\n",
              "      <th rowspan=\"2\" valign=\"top\">3-D PORTFOLIO</th>\n",
              "      <th>2ART-309</th>\n",
              "      <td>32</td>\n",
              "    </tr>\n",
              "    <tr>\n",
              "      <th>2ART-309-1</th>\n",
              "      <td>0</td>\n",
              "    </tr>\n",
              "    <tr>\n",
              "      <th>ACCOUNTING 1</th>\n",
              "      <th>2MIS-560D</th>\n",
              "      <td>6</td>\n",
              "    </tr>\n",
              "    <tr>\n",
              "      <th>ACTING</th>\n",
              "      <th>2THE-202</th>\n",
              "      <td>42</td>\n",
              "    </tr>\n",
              "    <tr>\n",
              "      <th>ADV 3-D</th>\n",
              "      <th>2ART-307</th>\n",
              "      <td>18</td>\n",
              "    </tr>\n",
              "    <tr>\n",
              "      <th>...</th>\n",
              "      <th>...</th>\n",
              "      <td>...</td>\n",
              "    </tr>\n",
              "    <tr>\n",
              "      <th rowspan=\"5\" valign=\"top\">Warrior Fundamentals 8</th>\n",
              "      <th>8605-2</th>\n",
              "      <td>0</td>\n",
              "    </tr>\n",
              "    <tr>\n",
              "      <th>8605-3</th>\n",
              "      <td>0</td>\n",
              "    </tr>\n",
              "    <tr>\n",
              "      <th>8605-4</th>\n",
              "      <td>0</td>\n",
              "    </tr>\n",
              "    <tr>\n",
              "      <th>8605-5</th>\n",
              "      <td>0</td>\n",
              "    </tr>\n",
              "    <tr>\n",
              "      <th>8605-6</th>\n",
              "      <td>0</td>\n",
              "    </tr>\n",
              "  </tbody>\n",
              "</table>\n",
              "<p>1543 rows × 1 columns</p>\n",
              "</div>"
            ],
            "text/plain": [
              "                                   FinalAverage\n",
              "CourseName             CourseID                \n",
              "3-D PORTFOLIO          2ART-309              32\n",
              "                       2ART-309-1             0\n",
              "ACCOUNTING 1           2MIS-560D              6\n",
              "ACTING                 2THE-202              42\n",
              "ADV 3-D                2ART-307              18\n",
              "...                                         ...\n",
              "Warrior Fundamentals 8 8605-2                 0\n",
              "                       8605-3                 0\n",
              "                       8605-4                 0\n",
              "                       8605-5                 0\n",
              "                       8605-6                 0\n",
              "\n",
              "[1543 rows x 1 columns]"
            ]
          },
          "metadata": {
            "tags": []
          },
          "execution_count": 61
        }
      ]
    },
    {
      "cell_type": "code",
      "metadata": {
        "id": "SWSTO5a5vCk_",
        "colab_type": "code",
        "colab": {}
      },
      "source": [
        "#Importing new dataset with no empty final average\n",
        "!wget https://www.dropbox.com/s/xjfumh6x62h2lb8/newdf%20after%20processing.csv"
      ],
      "execution_count": 0,
      "outputs": []
    },
    {
      "cell_type": "code",
      "metadata": {
        "id": "ScMAdE4D8Gs0",
        "colab_type": "code",
        "colab": {}
      },
      "source": [
        "newdf = pd.read_csv('newdf after processing.csv')\n",
        "newdf.isnull().sum()"
      ],
      "execution_count": 0,
      "outputs": []
    },
    {
      "cell_type": "code",
      "metadata": {
        "id": "LdtA_YMy9CIO",
        "colab_type": "code",
        "colab": {
          "base_uri": "https://localhost:8080/",
          "height": 316
        },
        "outputId": "a6170f0f-c66f-4961-b39b-6d4cd3732ff8"
      },
      "source": [
        "sns.distplot(newdf.FinalAverage)"
      ],
      "execution_count": 65,
      "outputs": [
        {
          "output_type": "execute_result",
          "data": {
            "text/plain": [
              "<matplotlib.axes._subplots.AxesSubplot at 0x7f74091a7f28>"
            ]
          },
          "metadata": {
            "tags": []
          },
          "execution_count": 65
        },
        {
          "output_type": "display_data",
          "data": {
            "image/png": "[encoded data removed]",
            "text/plain": [
              "<Figure size 432x288 with 1 Axes>"
            ]
          },
          "metadata": {
            "tags": []
          }
        }
      ]
    },
    {
      "cell_type": "code",
      "metadata": {
        "id": "8Oe-Is-o92tN",
        "colab_type": "code",
        "colab": {}
      },
      "source": [
        "eng = newdf[newdf['CourseDepartment']=='English']\n",
        "\n",
        "math = newdf[newdf['CourseDepartment']=='Math']\n",
        "\n",
        "sci= newdf[newdf['CourseDepartment']=='Science']\n",
        "\n",
        "social = newdf[newdf['CourseDepartment']=='Social Studies']\n"
      ],
      "execution_count": 0,
      "outputs": []
    },
    {
      "cell_type": "code",
      "metadata": {
        "id": "pXUdz42W-BT0",
        "colab_type": "code",
        "colab": {
          "base_uri": "https://localhost:8080/",
          "height": 641
        },
        "outputId": "e39905e0-27c5-4ba7-bb04-390281d3b4bf"
      },
      "source": [
        "plt.figure(figsize=(15,10))\n",
        "sns.distplot(eng.FinalAverage,hist=False,label='English')\n",
        "sns.distplot(math.FinalAverage,hist=False,label='Math')\n",
        "sns.distplot(sci.FinalAverage,hist=False,label='Science')\n",
        "sns.distplot(social.FinalAverage,hist=False,label='Social Studies')"
      ],
      "execution_count": 67,
      "outputs": [
        {
          "output_type": "execute_result",
          "data": {
            "text/plain": [
              "<matplotlib.axes._subplots.AxesSubplot at 0x7f74091a7ef0>"
            ]
          },
          "metadata": {
            "tags": []
          },
          "execution_count": 67
        },
        {
          "output_type": "display_data",
          "data": {
            "image/png": "[encoded data removed]",
            "text/plain": [
              "<Figure size 1080x720 with 1 Axes>"
            ]
          },
          "metadata": {
            "tags": []
          }
        }
      ]
    },
    {
      "cell_type": "code",
      "metadata": {
        "id": "qQLc8tDQAca4",
        "colab_type": "code",
        "colab": {
          "base_uri": "https://localhost:8080/",
          "height": 674
        },
        "outputId": "d57f5873-6d39-4a4f-dfc9-c27d79b10209"
      },
      "source": [
        "plt.figure(figsize=(15,10))\n",
        "sns.set(font_scale=2)\n",
        "\n",
        "sns.boxplot(x='FinalAverage',y='Grade',data = social,orient='h').set_title(\"Social Studies Final average in different grades\")"
      ],
      "execution_count": 69,
      "outputs": [
        {
          "output_type": "execute_result",
          "data": {
            "text/plain": [
              "Text(0.5, 1.0, 'Social Studies Final average in different grades')"
            ]
          },
          "metadata": {
            "tags": []
          },
          "execution_count": 69
        },
        {
          "output_type": "display_data",
          "data": {
            "image/png": "[encoded data removed]",
            "text/plain": [
              "<Figure size 1080x720 with 1 Axes>"
            ]
          },
          "metadata": {
            "tags": []
          }
        }
      ]
    },
    {
      "cell_type": "code",
      "metadata": {
        "id": "mToBTFz5GKJd",
        "colab_type": "code",
        "colab": {
          "base_uri": "https://localhost:8080/",
          "height": 325
        },
        "outputId": "7a6f6e80-d5b8-4dde-87ab-f8d64121cb64"
      },
      "source": [
        "sns.set(font_scale=1.3)\n",
        "newdf['BusAM'].value_counts().plot(kind='barh',fontsize=15,subplots=True)"
      ],
      "execution_count": 70,
      "outputs": [
        {
          "output_type": "execute_result",
          "data": {
            "text/plain": [
              "array([<matplotlib.axes._subplots.AxesSubplot object at 0x7f7408d27780>],\n",
              "      dtype=object)"
            ]
          },
          "metadata": {
            "tags": []
          },
          "execution_count": 70
        },
        {
          "output_type": "display_data",
          "data": {
            "image/png": "[encoded data removed]",
            "text/plain": [
              "<Figure size 432x288 with 1 Axes>"
            ]
          },
          "metadata": {
            "tags": []
          }
        }
      ]
    },
    {
      "cell_type": "code",
      "metadata": {
        "id": "mGq0lZ0sOXnO",
        "colab_type": "code",
        "colab": {
          "base_uri": "https://localhost:8080/",
          "height": 153
        },
        "outputId": "eddcfbd9-dcc7-47e2-a07e-304020d9c28c"
      },
      "source": [
        "newdf['BusAM'].value_counts()"
      ],
      "execution_count": 71,
      "outputs": [
        {
          "output_type": "execute_result",
          "data": {
            "text/plain": [
              "7.0     2884\n",
              "6.0     2475\n",
              "8.0     2261\n",
              "10.0    2121\n",
              "9.0     2028\n",
              "11.0    2017\n",
              "12.0    1753\n",
              "Name: BusAM, dtype: int64"
            ]
          },
          "metadata": {
            "tags": []
          },
          "execution_count": 71
        }
      ]
    },
    {
      "cell_type": "code",
      "metadata": {
        "id": "9vfLpfsyzjLE",
        "colab_type": "code",
        "colab": {
          "base_uri": "https://localhost:8080/",
          "height": 378
        },
        "outputId": "ca7b92cb-3d74-453d-c34b-8054fb0927bc"
      },
      "source": [
        "newdf2=newdf.drop_duplicates(subset='Student ID')\n",
        "newdf2['BUSPM'].value_counts().plot(kind='barh',figsize = (8,10),subplots=True)\n",
        "\n"
      ],
      "execution_count": 82,
      "outputs": [
        {
          "output_type": "execute_result",
          "data": {
            "text/plain": [
              "array([<matplotlib.axes._subplots.AxesSubplot object at 0x7f74089eac18>],\n",
              "      dtype=object)"
            ]
          },
          "metadata": {
            "tags": []
          },
          "execution_count": 82
        },
        {
          "output_type": "display_data",
          "data": {
            "image/png": "[encoded data removed]",
            "text/plain": [
              "<Figure size 576x360 with 1 Axes>"
            ]
          },
          "metadata": {
            "tags": []
          }
        }
      ]
    },
    {
      "cell_type": "code",
      "metadata": {
        "id": "9aEMTSlS3Pgd",
        "colab_type": "code",
        "colab": {
          "base_uri": "https://localhost:8080/",
          "height": 1000
        },
        "outputId": "7038ea77-e53a-4c1f-f812-ccb6873d1d00"
      },
      "source": [
        "pd.DataFrame(newdf2['BUSPM'].value_counts())"
      ],
      "execution_count": 94,
      "outputs": [
        {
          "output_type": "execute_result",
          "data": {
            "text/html": [
              "<div>\n",
              "<style scoped>\n",
              "    .dataframe tbody tr th:only-of-type {\n",
              "        vertical-align: middle;\n",
              "    }\n",
              "\n",
              "    .dataframe tbody tr th {\n",
              "        vertical-align: top;\n",
              "    }\n",
              "\n",
              "    .dataframe thead th {\n",
              "        text-align: right;\n",
              "    }\n",
              "</style>\n",
              "<table border=\"1\" class=\"dataframe\">\n",
              "  <thead>\n",
              "    <tr style=\"text-align: right;\">\n",
              "      <th></th>\n",
              "      <th>BUSPM</th>\n",
              "    </tr>\n",
              "  </thead>\n",
              "  <tbody>\n",
              "    <tr>\n",
              "      <th>37.0</th>\n",
              "      <td>19</td>\n",
              "    </tr>\n",
              "    <tr>\n",
              "      <th>13.0</th>\n",
              "      <td>18</td>\n",
              "    </tr>\n",
              "    <tr>\n",
              "      <th>14.0</th>\n",
              "      <td>16</td>\n",
              "    </tr>\n",
              "    <tr>\n",
              "      <th>39.0</th>\n",
              "      <td>16</td>\n",
              "    </tr>\n",
              "    <tr>\n",
              "      <th>129.0</th>\n",
              "      <td>16</td>\n",
              "    </tr>\n",
              "    <tr>\n",
              "      <th>127.0</th>\n",
              "      <td>15</td>\n",
              "    </tr>\n",
              "    <tr>\n",
              "      <th>130.0</th>\n",
              "      <td>15</td>\n",
              "    </tr>\n",
              "    <tr>\n",
              "      <th>33.0</th>\n",
              "      <td>15</td>\n",
              "    </tr>\n",
              "    <tr>\n",
              "      <th>30.0</th>\n",
              "      <td>14</td>\n",
              "    </tr>\n",
              "    <tr>\n",
              "      <th>49.0</th>\n",
              "      <td>14</td>\n",
              "    </tr>\n",
              "    <tr>\n",
              "      <th>38.0</th>\n",
              "      <td>13</td>\n",
              "    </tr>\n",
              "    <tr>\n",
              "      <th>45.0</th>\n",
              "      <td>13</td>\n",
              "    </tr>\n",
              "    <tr>\n",
              "      <th>28.0</th>\n",
              "      <td>13</td>\n",
              "    </tr>\n",
              "    <tr>\n",
              "      <th>11.0</th>\n",
              "      <td>12</td>\n",
              "    </tr>\n",
              "    <tr>\n",
              "      <th>31.0</th>\n",
              "      <td>12</td>\n",
              "    </tr>\n",
              "    <tr>\n",
              "      <th>50.0</th>\n",
              "      <td>12</td>\n",
              "    </tr>\n",
              "    <tr>\n",
              "      <th>20.0</th>\n",
              "      <td>12</td>\n",
              "    </tr>\n",
              "    <tr>\n",
              "      <th>70.0</th>\n",
              "      <td>12</td>\n",
              "    </tr>\n",
              "    <tr>\n",
              "      <th>29.0</th>\n",
              "      <td>11</td>\n",
              "    </tr>\n",
              "    <tr>\n",
              "      <th>104.0</th>\n",
              "      <td>11</td>\n",
              "    </tr>\n",
              "    <tr>\n",
              "      <th>47.0</th>\n",
              "      <td>11</td>\n",
              "    </tr>\n",
              "    <tr>\n",
              "      <th>25.0</th>\n",
              "      <td>11</td>\n",
              "    </tr>\n",
              "    <tr>\n",
              "      <th>109.0</th>\n",
              "      <td>10</td>\n",
              "    </tr>\n",
              "    <tr>\n",
              "      <th>48.0</th>\n",
              "      <td>10</td>\n",
              "    </tr>\n",
              "    <tr>\n",
              "      <th>40.0</th>\n",
              "      <td>10</td>\n",
              "    </tr>\n",
              "    <tr>\n",
              "      <th>42.0</th>\n",
              "      <td>9</td>\n",
              "    </tr>\n",
              "    <tr>\n",
              "      <th>128.0</th>\n",
              "      <td>9</td>\n",
              "    </tr>\n",
              "    <tr>\n",
              "      <th>106.0</th>\n",
              "      <td>9</td>\n",
              "    </tr>\n",
              "    <tr>\n",
              "      <th>12.0</th>\n",
              "      <td>9</td>\n",
              "    </tr>\n",
              "    <tr>\n",
              "      <th>10.0</th>\n",
              "      <td>8</td>\n",
              "    </tr>\n",
              "    <tr>\n",
              "      <th>32.0</th>\n",
              "      <td>7</td>\n",
              "    </tr>\n",
              "    <tr>\n",
              "      <th>41.0</th>\n",
              "      <td>7</td>\n",
              "    </tr>\n",
              "    <tr>\n",
              "      <th>21.0</th>\n",
              "      <td>7</td>\n",
              "    </tr>\n",
              "    <tr>\n",
              "      <th>46.0</th>\n",
              "      <td>6</td>\n",
              "    </tr>\n",
              "    <tr>\n",
              "      <th>44.0</th>\n",
              "      <td>4</td>\n",
              "    </tr>\n",
              "    <tr>\n",
              "      <th>119.0</th>\n",
              "      <td>3</td>\n",
              "    </tr>\n",
              "  </tbody>\n",
              "</table>\n",
              "</div>"
            ],
            "text/plain": [
              "       BUSPM\n",
              "37.0      19\n",
              "13.0      18\n",
              "14.0      16\n",
              "39.0      16\n",
              "129.0     16\n",
              "127.0     15\n",
              "130.0     15\n",
              "33.0      15\n",
              "30.0      14\n",
              "49.0      14\n",
              "38.0      13\n",
              "45.0      13\n",
              "28.0      13\n",
              "11.0      12\n",
              "31.0      12\n",
              "50.0      12\n",
              "20.0      12\n",
              "70.0      12\n",
              "29.0      11\n",
              "104.0     11\n",
              "47.0      11\n",
              "25.0      11\n",
              "109.0     10\n",
              "48.0      10\n",
              "40.0      10\n",
              "42.0       9\n",
              "128.0      9\n",
              "106.0      9\n",
              "12.0       9\n",
              "10.0       8\n",
              "32.0       7\n",
              "41.0       7\n",
              "21.0       7\n",
              "46.0       6\n",
              "44.0       4\n",
              "119.0      3"
            ]
          },
          "metadata": {
            "tags": []
          },
          "execution_count": 94
        }
      ]
    },
    {
      "cell_type": "code",
      "metadata": {
        "id": "QMcMxqcZ7amm",
        "colab_type": "code",
        "colab": {
          "base_uri": "https://localhost:8080/",
          "height": 221
        },
        "outputId": "77d7c606-aeef-4253-b246-6b338f663587"
      },
      "source": [
        "newdf2.AMBusDestination.value_counts(1)"
      ],
      "execution_count": 97,
      "outputs": [
        {
          "output_type": "execute_result",
          "data": {
            "text/plain": [
              "<Home>                 0.907658\n",
              "<Parent Transp>        0.038288\n",
              "<None>                 0.036036\n",
              "12 Rabie Rd            0.002252\n",
              "287 Rt #355            0.002252\n",
              "bon acher way          0.002252\n",
              "1159 Burden Lake Rd    0.002252\n",
              "7727 Route 66          0.002252\n",
              "382 3rd Ave            0.002252\n",
              "26 Sheer Rd            0.002252\n",
              "5 ADAMS COURT          0.002252\n",
              "Name: AMBusDestination, dtype: float64"
            ]
          },
          "metadata": {
            "tags": []
          },
          "execution_count": 97
        }
      ]
    },
    {
      "cell_type": "code",
      "metadata": {
        "id": "wJG9k1lV7xOY",
        "colab_type": "code",
        "colab": {
          "base_uri": "https://localhost:8080/",
          "height": 289
        },
        "outputId": "f79ac25b-0e81-48bb-ad2a-00304f1bdfce"
      },
      "source": [
        "newdf2.PMBUSDestination.value_counts(1)"
      ],
      "execution_count": 99,
      "outputs": [
        {
          "output_type": "execute_result",
          "data": {
            "text/plain": [
              "<Home>                           0.880631\n",
              "<Parent Transp>                  0.056306\n",
              "<None>                           0.036036\n",
              "3163 rte 43                      0.002252\n",
              "Miller Hill Child Care           0.002252\n",
              "21 Snyders Corners Rd            0.002252\n",
              "12 Rabie Rd                      0.002252\n",
              "3049 ny rte 43                   0.002252\n",
              "128 Main Street - Poestenkill    0.002252\n",
              "43 Dahl Drive                    0.002252\n",
              "bon acher way                    0.002252\n",
              "1159 Burden Lake Rd              0.002252\n",
              "7727 Route 66                    0.002252\n",
              "382 3rd Ave                      0.002252\n",
              "26 Sheer Rd                      0.002252\n",
              "Name: PMBUSDestination, dtype: float64"
            ]
          },
          "metadata": {
            "tags": []
          },
          "execution_count": 99
        }
      ]
    }
  ]
}